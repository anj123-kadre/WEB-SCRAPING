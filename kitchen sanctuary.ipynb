{
 "cells": [
  {
   "cell_type": "code",
   "execution_count": 1,
   "metadata": {},
   "outputs": [],
   "source": [
    "import logging\n",
    "import datetime\n",
    "import time\n",
    "#from sitemap_parser import SitemapParser\n",
    "import pandas as pd\n",
    "from selenium import webdriver\n",
    "from selenium.common.exceptions import NoSuchElementException, NoSuchAttributeException, InvalidSelectorException\n",
    "from webdriver_manager.chrome import ChromeDriverManager\n",
    "from selenium.webdriver.chrome.options import Options\n",
    "from bs4 import BeautifulSoup\n",
    "import codecs\n",
    "import re\n",
    "import requests\n",
    "import json\n",
    "import pprint as pprint"
   ]
  },
  {
   "cell_type": "code",
   "execution_count": null,
   "metadata": {},
   "outputs": [],
   "source": [
    "def kitchensanctuary_crawler(self, path):\n",
    "        \"\"\"\n",
    "        :param urls: Urls to parse.\n",
    "        :param url_id: url_id from input table.\n",
    "        :param website_id: site_id from input table.\n",
    "        :param website_name: site_name.\n",
    "        :return: Data points from website.\n",
    "        \"\"\"\n",
    "        start_datetime = datetime.datetime.utcnow()\n",
    "        path= 'C:/Users/Dell/Downloads/smart-cookie/kitchensanctuary/'\n",
    "        files = os.listdir(path)\n",
    "        count = 0\n",
    "        for i in range(len(files)):\n",
    "            count = count + 1\n",
    "            logger.info('Loop Count %d, DF index Count %d', count, len(self.buffer_data_df.index))\n",
    "            files[i] = path + '/' + files[i]\n",
    "            file = codecs.open(files[i], \"r\", \"utf-8\")\n",
    "            soup = BeautifulSoup(file.read(), features=\"lxml\")\n",
    "            info_container = soup.select_one('div.wprm-recipe-container')\n",
    "            if info_container:\n",
    "                content_series = self.get_empty_content_series()\n",
    "                content_series[\"crawl_timestamp\"] = datetime.datetime.utcnow().strftime('%Y-%m-%d %H:%M:%S')\n",
    "                content_series[\"url_id\"] = self.site_doc['url_id']\n",
    "                content_series[\"website_id\"] = self.site_doc['site_id']\n",
    "                content_series[\"website_name\"] = self.site_doc['site_name']\n",
    "\n",
    "                try:\n",
    "                    title = soup.select_one('h2.wprm-recipe-name')\n",
    "                    content_series['recipe_title'] = title.text\n",
    "                except:\n",
    "                    content_series['recipe_title'] = \"\"    \n",
    "\n",
    "                try:\n",
    "                    content_series['recipe_url'] = soup.select_one('meta[property=\"og:url\"]')['content']\n",
    "                except:\n",
    "                    content_series['recipe_url'] = \"\"    \n",
    "\n",
    "                try:\n",
    "                    author_name = soup.select_one('span.wprm-recipe-details.wprm-recipe-author.wprm-block-text-bold').text\n",
    "                    content_series['author_name'] = author_name\n",
    "                except:\n",
    "                    content_series['author_name']= ''\n",
    "                    \n",
    "                try:\n",
    "                    try:\n",
    "                        value = soup.select_one('span.wprm-recipe-servings.wprm-recipe-details.wprm-recipe-servings').text\n",
    "                    except:\n",
    "                        value = \"\"\n",
    "                    try:\n",
    "                        unit = soup.select_one('span.wprm-recipe-servings-unit.wprm-recipe-details-unit.wprm-block-text-normal').text\n",
    "                    except:\n",
    "                        unit = \"\"\n",
    "                    serving_size = {'value': value, 'unit': unit}\n",
    "                    content_series['serving_size'] = serving_size\n",
    "                except:\n",
    "                    content_series['serving_size'] = \"\"       \n",
    "\n",
    "                try:\n",
    "                    modified_date = soup.select_one('meta[property=\"article:modified_time\"]')\n",
    "                    content_series['modified_date'] = modified_date['content'].split('T')[0]\n",
    "                except:\n",
    "                    content_series['modified_date'] = \"\"\n",
    "\n",
    "                try:\n",
    "                    published_date = soup.select_one('meta[property=\"article:published_time\"]')\n",
    "                    content_series['published_date'] = published_date['content'].split('T')[0]\n",
    "                except:\n",
    "                    content_series['published_date'] = \"\" \n",
    "                \n",
    "                try:\n",
    "                    cuisine = info_container.select_one(\"span.wprm-recipe-cuisine\")\n",
    "                    if cuisine:\n",
    "                        content_series['cuisine'] = cuisine.text\n",
    "                except:\n",
    "                    content_series['cuisine'] = \"\"\n",
    "                \n",
    "                try:\n",
    "                    meal_course = soup.select_one(\"span.wprm-recipe-course\")\n",
    "                    if meal_course:\n",
    "                        content_series['meal_course'] = meal_course.text\n",
    "                except:\n",
    "                    content_series['meal_course'] = \"\"\n",
    "\n",
    "                time_data = {'hours': 0, 'minutes': 0, 'days': 0}\n",
    "                try:\n",
    "                    try:\n",
    "                        preperation_time_minutes = info_container.select_one(\"span.wprm-recipe-details.wprm-recipe-details-minutes.wprm-recipe-prep_time.wprm-recipe-prep_time-minutes\")\n",
    "                        if preperation_time_minutes:\n",
    "                            time_data['minutes'] = preperation_time_minutes.text\n",
    "                    except:\n",
    "                        time_data['minutes'] = \"0\"\n",
    "                    try:\n",
    "                        preperation_time_hours = info_container.select_one(\"span.wprm-recipe-details.wprm-recipe-details-hours.wprm-recipe-prep_time.wprm-recipe-prep_time-hours\")\n",
    "                        if preperation_time_hours:\n",
    "                            time_data['hours'] = preperation_time_hours.text\n",
    "                    except:\n",
    "                        time_data['hours'] = \"0\"\n",
    "                    try:\n",
    "                        preperation_time_days = info_container.select_one(\"span.wprm-recipe-details.wprm-recipe-details-days.wprm-recipe-prep_time.wprm-recipe-prep_time-days\")\n",
    "                        if preperation_time_days:\n",
    "                            time_data['days'] = preperation_time_days.text\n",
    "                    except:\n",
    "                        time_data['days'] = \"0\"\n",
    "                    content_series['preperation_time'] = int(time_data['minutes'])+int(time_data['hours'])*60+int(time_data['days'])*24*60\n",
    "                except:\n",
    "                    content_series['preperation_time'] = \"\"\n",
    "\n",
    "                time_data = {'hours': 0, 'minutes': 0, 'days': 0}\n",
    "                try:\n",
    "                    try:\n",
    "                        cooking_time_minutes = info_container.select_one(\"span.wprm-recipe-details.wprm-recipe-details-minutes.wprm-recipe-cook_time.wprm-recipe-cook_time-minutes\")\n",
    "                        if cooking_time_minutes:\n",
    "                            time_data['minutes'] = cooking_time_minutes.text\n",
    "                    except:\n",
    "                        time_data['minutes'] = \"0\"\n",
    "                    try:\n",
    "                        cooking_time_hours = info_container.select_one(\"span.wprm-recipe-details.wprm-recipe-details-hours.wprm-recipe-cook_time.wprm-recipe-cook_time-hours\")\n",
    "                        if cooking_time_hours:\n",
    "                            time_data['hours'] = cooking_time_hours.text\n",
    "                    except:\n",
    "                        time_data['hours'] = \"0\"\n",
    "                    try:\n",
    "                        cooking_time_days = info_container.select_one(\"span.wprm-recipe-details.wprm-recipe-details-days.wprm-recipe-cook_time.wprm-recipe-cook_time-days\")\n",
    "                        if cooking_time_days:\n",
    "                            time_data['days'] = cooking_time_days.text\n",
    "                    except:\n",
    "                        time_data['days'] = \"0\"\n",
    "                    content_series['cooking_time'] = int(time_data['minutes'])+int(time_data['hours'])*60+int(time_data['days'])*24*60\n",
    "                except:\n",
    "                    content_series['cooking_time'] = \"\"\n",
    "\n",
    "                time_data = {'hours': 0, 'minutes': 0, 'days': 0}\n",
    "                try:\n",
    "                    try:\n",
    "                        total_time_minutes = info_container.select_one(\"span.wprm-recipe-details.wprm-recipe-details-minutes.wprm-recipe-total_time.wprm-recipe-total_time-minutes\")\n",
    "                        if total_time_minutes:\n",
    "                            time_data['minutes'] = total_time_minutes.text\n",
    "                    except:\n",
    "                        time_data['minutes'] = \"0\"\n",
    "                    try:\n",
    "                        total_time_hours = info_container.select_one(\"span.wprm-recipe-details.wprm-recipe-details-hours.wprm-recipe-total_time.wprm-recipe-total_time-hours\")\n",
    "                        if total_time_hours:\n",
    "                            time_data['hours'] = total_time_hours.text\n",
    "                    except:\n",
    "                        time_data['hours'] = \"0\"\n",
    "                    try:\n",
    "                        total_time_days = info_container.select_one(\"span.wprm-recipe-details.wprm-recipe-details-days.wprm-recipe-total_time.wprm-recipe-total_time-days\")\n",
    "                        if total_time_days:\n",
    "                            time_data['days'] = total_time_days.text\n",
    "                    except:\n",
    "                        time_data['days'] = \"0\"\n",
    "                    content_series['total_time'] = int(time_data['minutes'])+int(time_data['hours'])*60+int(time_data['days'])*24*60\n",
    "                except:\n",
    "                    content_series['total_time'] = \"\"\n",
    "\n",
    "                \n",
    "                try:\n",
    "                    image = soup.select_one('meta[property=\"og:image\"]')['content']\n",
    "                    images_dict = {'image':image, 'title': '', 'caption': ''}\n",
    "                    content_series[\"img_urls\"] = [images_dict]\n",
    "                except:\n",
    "                    content_series['img_urls'] = []\n",
    "                \n",
    "                try:\n",
    "                    description = soup.select_one('div.wprm-recipe-summary.wprm-block-text-normal').text\n",
    "                    content_series['recipe_description'] = description\n",
    "                except:\n",
    "                    pass\n",
    "                    \n",
    "                ingredients_lst = []\n",
    "                ingredients_container = soup.select_one(\n",
    "                    \"div.wprm-recipe-ingredients-container\")\n",
    "                if ingredients_container:\n",
    "                    group_sections = ingredients_container.select(\n",
    "                        'div.wprm-recipe-ingredient-group')\n",
    "                    for group_section in group_sections:\n",
    "                        section_name = ''\n",
    "                        ingredients = []\n",
    "                        section_tag = group_section.select_one(\"h4.wprm-recipe-group-name\")\n",
    "                        if section_tag:\n",
    "                            section_name = section_tag.text\n",
    "                        ingredient_tags = group_section.select(\n",
    "                            'ul.wprm-recipe-ingredients>li.wprm-recipe-ingredient')\n",
    "                        for ingredient in ingredient_tags:\n",
    "                            ingredients.append(ingredient.text.strip(\"▢\"))\n",
    "                        ingredients_lst.append(\n",
    "                            {'section': section_name, 'ingredients': ingredients})\n",
    "                content_series[\"recipe_ingredient_list\"] = ingredients_lst\n",
    "\n",
    "                instructions_list = []\n",
    "                title = ''\n",
    "                instructions = soup.select('div.wprm-recipe-instruction-group>ul>li')\n",
    "                instruction_lst = []\n",
    "                for inst in instructions:\n",
    "                    isnt_data = {'text': '', 'title': '', 'image': '', 'caption': ''}\n",
    "                    isnt_data['text'] = inst.text\n",
    "                    instruction_lst.append(isnt_data)\n",
    "                instructions_list.append({'section': title, 'instructions': instruction_lst})\n",
    "                content_series[\"recipe_instructions\"] = instructions_list\n",
    "                instruction_container = soup.select_one('div.wprm-recipe-instruction-group')\n",
    "                if instruction_container:\n",
    "                    content_series[\"recipe_instructions_html\"] = str(instruction_container)\n",
    "                \n",
    "                self.parsed_data_df = self.parsed_data_df.append(content_series, ignore_index=True)\n",
    "                self.buffer_data_df = self.buffer_data_df.append(content_series, ignore_index=True)\n",
    "                if len(self.buffer_data_df.index) % 10 == 0:\n",
    "                    self.buffer_data_df = self.buffer_data_df.replace({np.nan: None})\n",
    "                    self.parsed_data_df = self.parsed_data_df.replace({np.nan: None})\n",
    "                    recipe_content = self.buffer_data_df.to_dict('records')\n",
    "                    recipe_urls = self.buffer_data_df[['recipe_url']].rename(\n",
    "                        columns={'recipe_url': 'url'}).to_dict('records')\n",
    "                    self._store_to_db(recipe_content, recipe_urls)\n",
    "                    self.parsed_data_df.to_csv(self.site_doc['site_name'] + '.csv', index=False)\n",
    "                    logger_stats.info('Start Time: %s, Total Dumps: %d, Elapsed Time: %s',\n",
    "                                    start_datetime,\n",
    "                                    len(self.buffer_data_df.index),\n",
    "                                    datetime.datetime.utcnow() - start_datetime)\n",
    "                    self.buffer_data_df.drop(self.buffer_data_df.index, inplace=True)\n",
    "        if len(self.buffer_data_df.index):\n",
    "            self.buffer_data_df = self.buffer_data_df.replace({np.nan: None})\n",
    "            recipe_content = self.buffer_data_df.to_dict('records')\n",
    "            recipe_url = self.buffer_data_df[['recipe_url']].rename(\n",
    "                columns={'recipe_url': 'url'}).to_dict('records')\n",
    "            self._store_to_db(recipe_content, recipe_url)\n",
    "            self.parsed_data_df = self.parsed_data_df.replace({np.nan: None})\n",
    "            self.parsed_data_df.to_csv(self.site_doc['site_name'] + '.csv', index=False)\n",
    "        logger_stats.info('Start Time: %s, Total Dumps: %d, Elapsed Time: %s',\n",
    "                        start_datetime,\n",
    "                        len(self.buffer_data_df.index),\n",
    "                        datetime.datetime.utcnow() - start_datetime)"
   ]
  },
  {
   "cell_type": "code",
   "execution_count": 2,
   "metadata": {},
   "outputs": [],
   "source": [
    "url = 'https://www.kitchensanctuary.com/chocolate-almond-banana-bread/#recipe'\n",
    "r = requests.get(url)\n",
    "soup = BeautifulSoup(r.text, 'lxml') "
   ]
  },
  {
   "cell_type": "code",
   "execution_count": 3,
   "metadata": {},
   "outputs": [
    {
     "data": {
      "text/plain": [
       "'Chocolate Almond Banana Bread'"
      ]
     },
     "execution_count": 3,
     "metadata": {},
     "output_type": "execute_result"
    }
   ],
   "source": [
    "title = soup.select_one('h2.wprm-recipe-name')\n",
    "title.text"
   ]
  },
  {
   "cell_type": "code",
   "execution_count": 4,
   "metadata": {},
   "outputs": [
    {
     "data": {
      "text/plain": [
       "'https://www.kitchensanctuary.com/chocolate-almond-banana-bread/'"
      ]
     },
     "execution_count": 4,
     "metadata": {},
     "output_type": "execute_result"
    }
   ],
   "source": [
    "recipe_url = soup.select_one('meta[property=\"og:url\"]')['content']\n",
    "recipe_url"
   ]
  },
  {
   "cell_type": "code",
   "execution_count": 7,
   "metadata": {},
   "outputs": [
    {
     "data": {
      "text/plain": [
       "'Nicky Corbishley'"
      ]
     },
     "execution_count": 7,
     "metadata": {},
     "output_type": "execute_result"
    }
   ],
   "source": [
    "author_name = soup.select_one('span.wprm-recipe-details.wprm-recipe-author.wprm-block-text-bold').text\n",
    "author_name\n"
   ]
  },
  {
   "cell_type": "code",
   "execution_count": 8,
   "metadata": {},
   "outputs": [
    {
     "data": {
      "text/plain": [
       "'12'"
      ]
     },
     "execution_count": 8,
     "metadata": {},
     "output_type": "execute_result"
    }
   ],
   "source": [
    "value = soup.select_one('span.wprm-recipe-servings.wprm-recipe-details.wprm-recipe-servings').text\n",
    "value"
   ]
  },
  {
   "cell_type": "code",
   "execution_count": 9,
   "metadata": {},
   "outputs": [
    {
     "data": {
      "text/plain": [
       "'slices'"
      ]
     },
     "execution_count": 9,
     "metadata": {},
     "output_type": "execute_result"
    }
   ],
   "source": [
    "unit = soup.select_one('span.wprm-recipe-servings-unit.wprm-recipe-details-unit.wprm-block-text-normal').text\n",
    "unit"
   ]
  },
  {
   "cell_type": "code",
   "execution_count": 10,
   "metadata": {},
   "outputs": [
    {
     "data": {
      "text/plain": [
       "{'value': '12', 'unit': 'slices'}"
      ]
     },
     "execution_count": 10,
     "metadata": {},
     "output_type": "execute_result"
    }
   ],
   "source": [
    "serving_size = {'value': value, 'unit': unit}\n",
    "serving_size"
   ]
  },
  {
   "cell_type": "code",
   "execution_count": 11,
   "metadata": {},
   "outputs": [
    {
     "data": {
      "text/plain": [
       "'2018-08-01'"
      ]
     },
     "execution_count": 11,
     "metadata": {},
     "output_type": "execute_result"
    }
   ],
   "source": [
    "modified_date = soup.select_one('meta[property=\"article:modified_time\"]')\n",
    "modified_date = modified_date['content'].split('T')[0]\n",
    "modified_date\n"
   ]
  },
  {
   "cell_type": "code",
   "execution_count": 12,
   "metadata": {},
   "outputs": [
    {
     "data": {
      "text/plain": [
       "'2014-11-04'"
      ]
     },
     "execution_count": 12,
     "metadata": {},
     "output_type": "execute_result"
    }
   ],
   "source": [
    "published_date = soup.select_one('meta[property=\"article:published_time\"]')\n",
    "published_date = published_date['content'].split('T')[0]\n",
    "published_date\n"
   ]
  },
  {
   "cell_type": "code",
   "execution_count": 13,
   "metadata": {},
   "outputs": [
    {
     "data": {
      "text/plain": [
       "'20'"
      ]
     },
     "execution_count": 13,
     "metadata": {},
     "output_type": "execute_result"
    }
   ],
   "source": [
    "preperation_time_minutes = soup.select_one(\"span.wprm-recipe-details.wprm-recipe-details-minutes.wprm-recipe-prep_time.wprm-recipe-prep_time-minutes\")\n",
    "preperation_time_minutes.text\n"
   ]
  },
  {
   "cell_type": "code",
   "execution_count": 14,
   "metadata": {},
   "outputs": [
    {
     "data": {
      "text/plain": [
       "'55'"
      ]
     },
     "execution_count": 14,
     "metadata": {},
     "output_type": "execute_result"
    }
   ],
   "source": [
    "cooking_time_minutes = soup.select_one(\"span.wprm-recipe-details.wprm-recipe-details-minutes.wprm-recipe-cook_time.wprm-recipe-cook_time-minutes\")\n",
    "cooking_time_minutes.text"
   ]
  },
  {
   "cell_type": "code",
   "execution_count": 15,
   "metadata": {},
   "outputs": [
    {
     "data": {
      "text/plain": [
       "'15'"
      ]
     },
     "execution_count": 15,
     "metadata": {},
     "output_type": "execute_result"
    }
   ],
   "source": [
    " total_time_minutes = soup.select_one(\"span.wprm-recipe-details.wprm-recipe-details-minutes.wprm-recipe-total_time.wprm-recipe-total_time-minutes\")\n",
    "total_time_minutes.text"
   ]
  },
  {
   "cell_type": "code",
   "execution_count": 17,
   "metadata": {},
   "outputs": [],
   "source": [
    "total_time_hours = soup.select_one(\"span.wprm-recipe-details.wprm-recipe-details-hours.wprm-recipe-total_time.wprm-recipe-total_time-hours\")"
   ]
  },
  {
   "cell_type": "code",
   "execution_count": 19,
   "metadata": {},
   "outputs": [
    {
     "data": {
      "text/plain": [
       "'1'"
      ]
     },
     "execution_count": 19,
     "metadata": {},
     "output_type": "execute_result"
    }
   ],
   "source": [
    "total_time_hours.text\n"
   ]
  },
  {
   "cell_type": "code",
   "execution_count": 20,
   "metadata": {},
   "outputs": [
    {
     "data": {
      "text/plain": [
       "[{'image': 'https://www.kitchensanctuary.com/wp-content/uploads/2014/11/Chocolate-almond-banana-bread-square-2.jpg',\n",
       "  'title': '',\n",
       "  'caption': ''}]"
      ]
     },
     "execution_count": 20,
     "metadata": {},
     "output_type": "execute_result"
    }
   ],
   "source": [
    "image = soup.select_one('meta[property=\"og:image\"]')['content']\n",
    "images_dict = {'image':image, 'title': '', 'caption': ''}\n",
    "img_url = [images_dict]\n",
    "img_url"
   ]
  },
  {
   "cell_type": "code",
   "execution_count": 21,
   "metadata": {},
   "outputs": [
    {
     "data": {
      "text/plain": [
       "'My\\xa0Chocolate Almond Banana Bread is really delicious.\\xa0Moist, chocolatey banana bread, dotted with swirls of almond frangipane, topped with creamy almond frosting and sprinkled with handfuls of crunchy candied almonds and pecans.'"
      ]
     },
     "execution_count": 21,
     "metadata": {},
     "output_type": "execute_result"
    }
   ],
   "source": [
    "description = soup.select_one('meta[property=\"og:description\"]')['content']\n",
    "description"
   ]
  },
  {
   "cell_type": "code",
   "execution_count": 25,
   "metadata": {},
   "outputs": [
    {
     "data": {
      "text/plain": [
       "[{'section': '',\n",
       "  'ingredients': [' 60 g 2oz unsalted butter - softened',\n",
       "   ' 50 g 1.75oz golden caster sugar',\n",
       "   ' 1 large egg',\n",
       "   ' 35 g 4tbsp plain flour',\n",
       "   ' ¼ tsp baking powder',\n",
       "   ' 60 g 2oz ground almonds',\n",
       "   ' ½ tsp almond extract',\n",
       "   ' 1 large egg',\n",
       "   ' 75 ml 2.5fl oz vegetable oil',\n",
       "   ' 125 g 4.5oz golden caster sugar',\n",
       "   ' 3 very ripe bananas - peeled and roughly chopped',\n",
       "   ' 150 g 5.3oz plain flour',\n",
       "   ' 25 g 0.9oz cocoa powder - sieved',\n",
       "   ' ½ tsp bicarbonate of soda',\n",
       "   ' ½ tsp baking powder',\n",
       "   ' 50 g 1.75oz chocolate chips',\n",
       "   ' 140 g 1cup confectioners sugar - sieved',\n",
       "   ' 2-3 tbsp. double/heavy cream',\n",
       "   ' ¼ tsp vanilla extract',\n",
       "   ' 1 tsp almond extract',\n",
       "   ' Candied nuts',\n",
       "   ' 120 g ½ cup golden caster sugar',\n",
       "   ' 100 g ¾ cup mixed, whole pecans and almonds (skin on)']}]"
      ]
     },
     "execution_count": 25,
     "metadata": {},
     "output_type": "execute_result"
    }
   ],
   "source": [
    "ingredients_lst = []\n",
    "ingredients = []\n",
    "section_text = ''\n",
    "lists = soup.select(\"div.wprm-recipe-ingredient-group>ul>li\")\n",
    "for li in lists:\n",
    "    ingredients.append(li.text.strip(\"▢\"))\n",
    "ingredients_lst.append({'section': section_text, 'ingredients': ingredients})\n",
    "recipe_ingredient_list = ingredients_lst\n",
    "recipe_ingredient_list"
   ]
  },
  {
   "cell_type": "code",
   "execution_count": 32,
   "metadata": {},
   "outputs": [],
   "source": [
    "ingredients_lst = []\n",
    "ingredients_container = soup.select_one(\n",
    "    \"div.wprm-recipe-ingredients-container\")\n",
    "if ingredients_container:\n",
    "    group_sections = ingredients_container.select(\n",
    "        'div.wprm-recipe-ingredient-group')\n",
    "    for group_section in group_sections:\n",
    "        section_name = ''\n",
    "        ingredients = []\n",
    "        section_tag = group_section.select_one(\"h4.wprm-recipe-group-name\")\n",
    "        if section_tag:\n",
    "            section_name = section_tag.text\n",
    "        ingredient_tags = group_section.select(\n",
    "            'ul.wprm-recipe-ingredients>li.wprm-recipe-ingredient')\n",
    "        for ingredient in ingredient_tags:\n",
    "            ingredients.append(ingredient.text.strip(\"▢\"))\n",
    "        ingredients_lst.append(\n",
    "            {'section': section_name, 'ingredients': ingredients})\n",
    "    recipe_ingredient_list = ingredients_lst"
   ]
  },
  {
   "cell_type": "code",
   "execution_count": 33,
   "metadata": {},
   "outputs": [
    {
     "data": {
      "text/plain": [
       "[{'section': 'Frangipane:',\n",
       "  'ingredients': [' 60 g 2oz unsalted butter - softened',\n",
       "   ' 50 g 1.75oz golden caster sugar',\n",
       "   ' 1 large egg',\n",
       "   ' 35 g 4tbsp plain flour',\n",
       "   ' ¼ tsp baking powder',\n",
       "   ' 60 g 2oz ground almonds',\n",
       "   ' ½ tsp almond extract']},\n",
       " {'section': 'Chocolate Banana Loaf:',\n",
       "  'ingredients': [' 1 large egg',\n",
       "   ' 75 ml 2.5fl oz vegetable oil',\n",
       "   ' 125 g 4.5oz golden caster sugar',\n",
       "   ' 3 very ripe bananas - peeled and roughly chopped',\n",
       "   ' 150 g 5.3oz plain flour',\n",
       "   ' 25 g 0.9oz cocoa powder - sieved',\n",
       "   ' ½ tsp bicarbonate of soda',\n",
       "   ' ½ tsp baking powder',\n",
       "   ' 50 g 1.75oz chocolate chips']},\n",
       " {'section': 'Almond Frosting:',\n",
       "  'ingredients': [' 140 g 1cup confectioners sugar - sieved',\n",
       "   ' 2-3 tbsp. double/heavy cream',\n",
       "   ' ¼ tsp vanilla extract',\n",
       "   ' 1 tsp almond extract',\n",
       "   ' Candied nuts',\n",
       "   ' 120 g ½ cup golden caster sugar',\n",
       "   ' 100 g ¾ cup mixed, whole pecans and almonds (skin on)']}]"
      ]
     },
     "execution_count": 33,
     "metadata": {},
     "output_type": "execute_result"
    }
   ],
   "source": [
    "ingredients_lst"
   ]
  },
  {
   "cell_type": "code",
   "execution_count": 34,
   "metadata": {},
   "outputs": [
    {
     "data": {
      "text/plain": [
       "[{'section': '',\n",
       "  'instructions': [{'text': 'Preheat oven to 180c. Line a 2lb loaf tin with baking parchment.',\n",
       "    'title': '',\n",
       "    'image': '',\n",
       "    'caption': ''},\n",
       "   {'text': 'First make your frangipane. Beat the butter and sugar together for a few minutes until light and creamy (you can do this in a mixer or by hand). Add the egg and beat again for a minute. Add the flour, baking powder, ground almonds and almond extract and mix for 2 more minutes. Cover and place in the fridge whilst you make the chocolate banana cake.',\n",
       "    'title': '',\n",
       "    'image': '',\n",
       "    'caption': ''},\n",
       "   {'text': 'In a mixer, whisk the egg, oil and sugar until combined, then add in the bananas. Whisk again until the banana breaks down and you’ve got a slightly lumpy liquid.',\n",
       "    'title': '',\n",
       "    'image': '',\n",
       "    'caption': ''},\n",
       "   {'text': 'Add in the flour, sieved cocoa powder, baking powder and bicarbonate of soda. Gently stir into the banana mixture using a silicone spatula or wooden spoon until combined. Then add in the chocolate chips and gently and stir again.',\n",
       "    'title': '',\n",
       "    'image': '',\n",
       "    'caption': ''},\n",
       "   {'text': 'Pour a third of the chocolate mixture into into the loaf tin, then dot half of the frangipane in little lumps on top. Pour another third of chocolate mix on top, then add in the remaining frangine in little dots. Use a cocktail stick to give the frangipane a couple of little swirls into the chocolate mixture. Pour the remaining chocolate mixture on top. Place in the oven to cook for 40-50 minutes (check it’s done after 40 minutes by inserting a metal skewer in the cake, if it comes out clean, it’s cooked). You may need to cover the cake with a bit of foil if it needs to cook for more than 40 minutes.',\n",
       "    'title': '',\n",
       "    'image': '',\n",
       "    'caption': ''},\n",
       "   {'text': 'Take the cake out of the oven and allow to cool in the tin for 10 minutes, before removing from the tin and allowing to cool completely on a cooling rack.',\n",
       "    'title': '',\n",
       "    'image': '',\n",
       "    'caption': ''},\n",
       "   {'text': 'Whilst the cake is cooling make the frosting and candied nuts.',\n",
       "    'title': '',\n",
       "    'image': '',\n",
       "    'caption': ''},\n",
       "   {'text': \"For the frosting, whisk together the confectioners sugar, 2tbsp cream, the vanilla extract and half the almond extract. You're looking for a spreadable consistency, so you need to ensure it's quite thick. Add a little more cream if required. Taste and then add the remaining almond extract if you want a stronger almond taste. Put to one side.\",\n",
       "    'title': '',\n",
       "    'image': '',\n",
       "    'caption': ''},\n",
       "   {'text': \"Next make your candied nuts. Place a piece of baking parchment on a tray and put to one side. Add the sugar to a small, heavy bottomed pan, ensuring it's in an even layer and heat slowly. The sugar will slowly start to melt at the edges first. Continue to heat until the caramel on the outside is molten and golden brown with a couple of bubbles starting to appear. Do not stir! This should take about 4 - 5 minutes. Turn off the heat before the sugar goes too brown, as it will burn very quickly. There may still be a tiny bit of unmelted sugar in the middle. This is ok, just leave the pan for about 30 seconds to allow the remaining bit of sugar to melt.\",\n",
       "    'title': '',\n",
       "    'image': '',\n",
       "    'caption': ''},\n",
       "   {'text': \"Working quickly, add your nuts and stir with a wooden spoon, tip it out onto the baking parchment and then flatten the mixture out very quickly using the wooden spoon. Don't touch the mixture as it will still be very hot. Allow the nutty caramel to cool and harden ( about 5 - 10 minutes), then break it up using your hands.\",\n",
       "    'title': '',\n",
       "    'image': '',\n",
       "    'caption': ''},\n",
       "   {'text': \"Now you're ready to assemble. Use a palette knife to spread the frosting all over the top of the cake. Sprinkle the candied nuts on top and serve.\",\n",
       "    'title': '',\n",
       "    'image': '',\n",
       "    'caption': ''}]}]"
      ]
     },
     "execution_count": 34,
     "metadata": {},
     "output_type": "execute_result"
    }
   ],
   "source": [
    "instructions_list = []\n",
    "title = ''\n",
    "instructions = soup.select('div.wprm-recipe-instruction-group>ul>li')\n",
    "instruction_lst = []\n",
    "for inst in instructions:\n",
    "    isnt_data = {'text': '', 'title': '', 'image': '', 'caption': ''}\n",
    "    isnt_data['text'] = inst.text\n",
    "    instruction_lst.append(isnt_data)\n",
    "instructions_list.append({'section': title, 'instructions': instruction_lst})\n",
    "recipe_instructions = instructions_list\n",
    "recipe_instructions"
   ]
  },
  {
   "cell_type": "code",
   "execution_count": 35,
   "metadata": {},
   "outputs": [
    {
     "data": {
      "text/plain": [
       "'British'"
      ]
     },
     "execution_count": 35,
     "metadata": {},
     "output_type": "execute_result"
    }
   ],
   "source": [
    "cuisine = soup.select_one(\"span.wprm-recipe-cuisine\").text\n",
    "cuisine"
   ]
  },
  {
   "cell_type": "code",
   "execution_count": 36,
   "metadata": {},
   "outputs": [
    {
     "data": {
      "text/plain": [
       "'Cakes'"
      ]
     },
     "execution_count": 36,
     "metadata": {},
     "output_type": "execute_result"
    }
   ],
   "source": [
    "meal_course = soup.select_one(\"span.wprm-recipe-course\")\n",
    "meal_course.text"
   ]
  },
  {
   "cell_type": "code",
   "execution_count": 37,
   "metadata": {},
   "outputs": [
    {
     "data": {
      "text/plain": [
       "'Chocolate almond banana bread - Rich and moist chocolate banana bread, dotted with swirls of frangipane and topped with almond frosting and candied nuts.'"
      ]
     },
     "execution_count": 37,
     "metadata": {},
     "output_type": "execute_result"
    }
   ],
   "source": [
    "des = soup.select_one('div.wprm-recipe-summary.wprm-block-text-normal')\n",
    "des.text"
   ]
  },
  {
   "cell_type": "code",
   "execution_count": 38,
   "metadata": {},
   "outputs": [
    {
     "data": {
      "text/plain": [
       "<div class=\"wprm-recipe-container\" data-recipe-id=\"11198\" data-servings=\"12\" id=\"wprm-recipe-container-11198\"><div class=\"wprm-recipe wprm-recipe-template-kschic\"><div class=\"wprm-container-float-right\">\n",
       "<div class=\"wprm-recipe-image wprm-block-image-circle\"><img alt=\"\" class=\"attachment-250x250 size-250x250\" data-lazy-sizes=\"(max-width: 250px) 100vw, 250px\" data-lazy-src=\"https://www.kitchensanctuary.com/wp-content/uploads/2014/11/Chocolate-almond-banana-bread-square-2-300x300-1-300x300.jpg\" data-lazy-srcset=\"https://www.kitchensanctuary.com/wp-content/uploads/2014/11/Chocolate-almond-banana-bread-square-2-300x300-1.jpg 300w, https://www.kitchensanctuary.com/wp-content/uploads/2014/11/Chocolate-almond-banana-bread-square-2-300x300-1-150x150.jpg 150w, https://www.kitchensanctuary.com/wp-content/uploads/2014/11/Chocolate-almond-banana-bread-square-2-300x300-1-180x180.jpg 180w, https://www.kitchensanctuary.com/wp-content/uploads/2014/11/Chocolate-almond-banana-bread-square-2-300x300-1-50x50.jpg 50w\" height=\"250\" src=\"data:image/svg+xml,%3Csvg%20xmlns='http://www.w3.org/2000/svg'%20viewBox='0%200%20250%20250'%3E%3C/svg%3E\" style=\"border-width: 0px;border-style: solid;border-color: #666666;\" width=\"250\"/><noscript><img alt=\"\" class=\"attachment-250x250 size-250x250\" height=\"250\" sizes=\"(max-width: 250px) 100vw, 250px\" src=\"https://www.kitchensanctuary.com/wp-content/uploads/2014/11/Chocolate-almond-banana-bread-square-2-300x300-1-300x300.jpg\" srcset=\"https://www.kitchensanctuary.com/wp-content/uploads/2014/11/Chocolate-almond-banana-bread-square-2-300x300-1.jpg 300w, https://www.kitchensanctuary.com/wp-content/uploads/2014/11/Chocolate-almond-banana-bread-square-2-300x300-1-150x150.jpg 150w, https://www.kitchensanctuary.com/wp-content/uploads/2014/11/Chocolate-almond-banana-bread-square-2-300x300-1-180x180.jpg 180w, https://www.kitchensanctuary.com/wp-content/uploads/2014/11/Chocolate-almond-banana-bread-square-2-300x300-1-50x50.jpg 50w\" style=\"border-width: 0px;border-style: solid;border-color: #666666;\" width=\"250\"/></noscript></div>\n",
       "</div>\n",
       "<h2 class=\"wprm-recipe-name wprm-block-text-bold\">Chocolate Almond Banana Bread</h2>\n",
       "<div class=\"wprm-spacer\"></div>\n",
       "<div class=\"wprm-recipe-block-container wprm-recipe-block-container-separate wprm-block-text-bold wprm-recipe-author-container\" style=\"\"><span class=\"wprm-recipe-details-label wprm-block-text-normal wprm-recipe-author-label\">By: </span><span class=\"wprm-recipe-details wprm-recipe-author wprm-block-text-bold\"><a href=\"https://www.kitchensanctuary.com/about/\" target=\"_self\">Nicky Corbishley</a></span></div>\n",
       "<div class=\"wprm-spacer\"></div>\n",
       "<div class=\"wprm-recipe-summary wprm-block-text-normal\">Chocolate almond banana bread - Rich and moist chocolate banana bread, dotted with swirls of frangipane and topped with almond frosting and candied nuts.</div>\n",
       "<div class=\"wprm-spacer\"></div>\n",
       "<style>#wprm-recipe-rating-0 .wprm-rating-star.wprm-rating-star-full svg * { fill: #f5a623; }#wprm-recipe-rating-0 .wprm-rating-star.wprm-rating-star-33 svg * { fill: url(#wprm-recipe-rating-0-33); }#wprm-recipe-rating-0 .wprm-rating-star.wprm-rating-star-50 svg * { fill: url(#wprm-recipe-rating-0-50); }#wprm-recipe-rating-0 .wprm-rating-star.wprm-rating-star-66 svg * { fill: url(#wprm-recipe-rating-0-66); }linearGradient#wprm-recipe-rating-0-33 stop { stop-color: #f5a623; }linearGradient#wprm-recipe-rating-0-50 stop { stop-color: #f5a623; }linearGradient#wprm-recipe-rating-0-66 stop { stop-color: #f5a623; }</style><svg height=\"0\" style=\"display:block;width:0px;height:0px\" width=\"0\" xmlns=\"http://www.w3.org/2000/svg\"><defs><lineargradient id=\"wprm-recipe-rating-0-33\"><stop offset=\"0%\" stop-opacity=\"1\"></stop><stop offset=\"33%\" stop-opacity=\"1\"></stop><stop offset=\"33%\" stop-opacity=\"0\"></stop><stop offset=\"100%\" stop-opacity=\"0\"></stop></lineargradient></defs><defs><lineargradient id=\"wprm-recipe-rating-0-50\"><stop offset=\"0%\" stop-opacity=\"1\"></stop><stop offset=\"50%\" stop-opacity=\"1\"></stop><stop offset=\"50%\" stop-opacity=\"0\"></stop><stop offset=\"100%\" stop-opacity=\"0\"></stop></lineargradient></defs><defs><lineargradient id=\"wprm-recipe-rating-0-66\"><stop offset=\"0%\" stop-opacity=\"1\"></stop><stop offset=\"66%\" stop-opacity=\"1\"></stop><stop offset=\"66%\" stop-opacity=\"0\"></stop><stop offset=\"100%\" stop-opacity=\"0\"></stop></lineargradient></defs></svg><div class=\"wprm-recipe-rating wprm-recipe-rating-inline\" id=\"wprm-recipe-rating-0\"><span class=\"wprm-rating-star wprm-rating-star-1 wprm-rating-star-full\" data-color=\"#f5a623\" data-rating=\"1\"><svg height=\"16px\" viewbox=\"0 0 24 24\" width=\"16px\" x=\"0px\" xmlns=\"http://www.w3.org/2000/svg\" xmlns:xlink=\"http://www.w3.org/1999/xlink\" y=\"0px\"><g transform=\"translate(0, 0)\"><polygon fill=\"none\" points=\"12,2.6 15,9 21.4,9 16.7,13.9 18.6,21.4 12,17.6 5.4,21.4 7.3,13.9 2.6,9 9,9 \" stroke=\"#f5a623\" stroke-linecap=\"square\" stroke-linejoin=\"miter\" stroke-miterlimit=\"10\" stroke-width=\"2\"></polygon></g></svg></span><span class=\"wprm-rating-star wprm-rating-star-2 wprm-rating-star-full\" data-color=\"#f5a623\" data-rating=\"2\"><svg height=\"16px\" viewbox=\"0 0 24 24\" width=\"16px\" x=\"0px\" xmlns=\"http://www.w3.org/2000/svg\" xmlns:xlink=\"http://www.w3.org/1999/xlink\" y=\"0px\"><g transform=\"translate(0, 0)\"><polygon fill=\"none\" points=\"12,2.6 15,9 21.4,9 16.7,13.9 18.6,21.4 12,17.6 5.4,21.4 7.3,13.9 2.6,9 9,9 \" stroke=\"#f5a623\" stroke-linecap=\"square\" stroke-linejoin=\"miter\" stroke-miterlimit=\"10\" stroke-width=\"2\"></polygon></g></svg></span><span class=\"wprm-rating-star wprm-rating-star-3 wprm-rating-star-full\" data-color=\"#f5a623\" data-rating=\"3\"><svg height=\"16px\" viewbox=\"0 0 24 24\" width=\"16px\" x=\"0px\" xmlns=\"http://www.w3.org/2000/svg\" xmlns:xlink=\"http://www.w3.org/1999/xlink\" y=\"0px\"><g transform=\"translate(0, 0)\"><polygon fill=\"none\" points=\"12,2.6 15,9 21.4,9 16.7,13.9 18.6,21.4 12,17.6 5.4,21.4 7.3,13.9 2.6,9 9,9 \" stroke=\"#f5a623\" stroke-linecap=\"square\" stroke-linejoin=\"miter\" stroke-miterlimit=\"10\" stroke-width=\"2\"></polygon></g></svg></span><span class=\"wprm-rating-star wprm-rating-star-4 wprm-rating-star-full\" data-color=\"#f5a623\" data-rating=\"4\"><svg height=\"16px\" viewbox=\"0 0 24 24\" width=\"16px\" x=\"0px\" xmlns=\"http://www.w3.org/2000/svg\" xmlns:xlink=\"http://www.w3.org/1999/xlink\" y=\"0px\"><g transform=\"translate(0, 0)\"><polygon fill=\"none\" points=\"12,2.6 15,9 21.4,9 16.7,13.9 18.6,21.4 12,17.6 5.4,21.4 7.3,13.9 2.6,9 9,9 \" stroke=\"#f5a623\" stroke-linecap=\"square\" stroke-linejoin=\"miter\" stroke-miterlimit=\"10\" stroke-width=\"2\"></polygon></g></svg></span><span class=\"wprm-rating-star wprm-rating-star-5 wprm-rating-star-full\" data-color=\"#f5a623\" data-rating=\"5\"><svg height=\"16px\" viewbox=\"0 0 24 24\" width=\"16px\" x=\"0px\" xmlns=\"http://www.w3.org/2000/svg\" xmlns:xlink=\"http://www.w3.org/1999/xlink\" y=\"0px\"><g transform=\"translate(0, 0)\"><polygon fill=\"none\" points=\"12,2.6 15,9 21.4,9 16.7,13.9 18.6,21.4 12,17.6 5.4,21.4 7.3,13.9 2.6,9 9,9 \" stroke=\"#f5a623\" stroke-linecap=\"square\" stroke-linejoin=\"miter\" stroke-miterlimit=\"10\" stroke-width=\"2\"></polygon></g></svg></span><div class=\"wprm-recipe-rating-details wprm-block-text-normal\"><span class=\"wprm-recipe-rating-average\">5</span> from 1 vote</div></div>\n",
       "<div class=\"wprm-spacer\" style=\"height: 25px\"></div>\n",
       "<div class=\"wprm-template-chic-buttons wprm-container-columns-spaced-middle wprm-container-columns-gutter\">\n",
       "<a class=\"wprm-recipe-jump-to-comments wprm-recipe-link wprm-block-text-normal wprm-recipe-jump-to-comments-wide-button wprm-recipe-link-wide-button wprm-color-accent\" href=\"#commentform\" style=\"color: #ffffff;background-color: #004d69;border-color: #004d69;border-radius: 10px;padding: 10px 5px;\"><span class=\"wprm-recipe-icon wprm-recipe-jump-to-comments-icon\"><svg height=\"16px\" viewbox=\"0 0 24 24\" width=\"16px\" x=\"0px\" xmlns=\"http://www.w3.org/2000/svg\" xmlns:xlink=\"http://www.w3.org/1999/xlink\" y=\"0px\"><g><path d=\"M12.712,1.942l2.969,6.015l6.638,0.965c0.651,0.095,0.911,0.895,0.44,1.354l-4.804,4.682l1.134,6.612c0.111,0.649-0.57,1.143-1.152,0.837L12,19.286l-5.938,3.122C5.48,22.714,4.799,22.219,4.91,21.57l1.134-6.612l-4.804-4.682c-0.471-0.459-0.211-1.26,0.44-1.354l6.638-0.965l2.969-6.015C11.579,1.352,12.421,1.352,12.712,1.942z\" fill=\"#ffffff\"></path></g></svg></span> Rate this Recipe</a>\n",
       "<a class=\"wprm-recipe-print wprm-recipe-link wprm-print-recipe-shortcode wprm-block-text-normal wprm-recipe-print-wide-button wprm-recipe-link-wide-button wprm-color-accent\" data-recipe-id=\"11198\" data-template=\"\" href=\"https://www.kitchensanctuary.com/wprm_print/recipe/11198\" rel=\"nofollow\" style=\"color: #ffffff;background-color: #004d69;border-color: #004d69;border-radius: 10px;padding: 10px 5px;\" target=\"_blank\"><span class=\"wprm-recipe-icon wprm-recipe-print-icon\"><svg height=\"16px\" version=\"1.1\" viewbox=\"0 0 24 24\" width=\"16px\" xmlns=\"http://www.w3.org/2000/svg\" xmlns:xlink=\"http://www.w3.org/1999/xlink\"><g fill=\"none\" fill-rule=\"evenodd\" stroke=\"none\" stroke-width=\"1\"><g fill=\"#ffffff\"><g><path d=\"M17.5454,0.0005 C18.2904,0.0005 18.9004,0.6105 18.9004,1.3565 L18.9004,1.3565 L18.9004,4.9445 L21.9904,4.9445 C23.0954,4.9445 24.0004,5.8485 24.0004,6.9535 L24.0004,6.9535 L24.0004,17.2415 C24.0004,18.3465 23.0954,19.2505 21.9904,19.2505 L21.9904,19.2505 L19.8414,19.2505 L19.8414,22.2795 C19.8414,23.1725 19.1104,23.9035 18.2174,23.9035 L18.2174,23.9035 L5.7834,23.9035 C4.8894,23.9035 4.1594,23.1725 4.1594,22.2795 L4.1594,22.2795 L4.1594,19.2505 L2.0104,19.2505 C0.9044,19.2505 0.0004,18.3465 0.0004,17.2415 L0.0004,17.2415 L0.0004,6.9535 C0.0004,5.8485 0.9044,4.9445 2.0104,4.9445 L2.0104,4.9445 L5.0984,4.9445 L5.0984,1.3565 C5.0984,0.6105 5.7094,0.0005 6.4554,0.0005 L6.4554,0.0005 Z M17.8414,15.5975 L6.1594,15.5975 L6.1594,21.9035 L17.8414,21.9035 L17.8414,15.5975 Z M21.9904,6.9445 L2.0104,6.9445 L2.0004,17.2415 L4.1594,17.2425 L4.1594,15.2215 C4.1594,14.3285 4.8894,13.5975 5.7834,13.5975 L5.7834,13.5975 L18.2174,13.5975 C19.1104,13.5975 19.8414,14.3285 19.8414,15.2215 L19.8414,15.2215 L19.8414,17.2495 L21.9904,17.2505 L22.0004,6.9535 L21.9904,6.9445 Z M6.1632,9.1318 C6.7902,9.1318 7.2992,9.6408 7.2992,10.2678 C7.2992,10.8948 6.7902,11.4028 6.1632,11.4028 L6.1632,11.4028 L5.0992,11.4028 C4.4722,11.4028 3.9632,10.8948 3.9632,10.2678 C3.9632,9.6408 4.4722,9.1318 5.0992,9.1318 L5.0992,9.1318 Z M16.6304,2.2715 L7.3704,2.2715 L7.3704,4.6845 L16.6304,4.6845 L16.6304,2.2715 Z\"></path></g></g></g></svg></span> Print Recipe</a>\n",
       "<a _blank=\"\" class=\"wprm-recipe-pin wprm-recipe-link wprm-block-text-normal wprm-recipe-pin-wide-button wprm-recipe-link-wide-button wprm-color-accent target=\" data-description=\"Chocolate Almond Banana Bread\" data-media=\"https://www.kitchensanctuary.com/wp-content/uploads/2014/11/Chocolate-almond-banana-bread-square-2-300x300-1.jpg\" data-recipe=\"11198\" data-repin=\"\" data-url=\"https://www.kitchensanctuary.com/chocolate-almond-banana-bread/\" href=\"https://www.pinterest.com/pin/create/bookmarklet/?url=https%3A%2F%2Fwww.kitchensanctuary.com%2Fchocolate-almond-banana-bread%2F&amp;media=https%3A%2F%2Fwww.kitchensanctuary.com%2Fwp-content%2Fuploads%2F2014%2F11%2FChocolate-almond-banana-bread-square-2-300x300-1.jpg&amp;description=Chocolate+Almond+Banana+Bread&amp;is_video=false\" rel=\"nofollow noopener\" style=\"color: #ffffff;background-color: #004d69;border-color: #004d69;border-radius: 10px;padding: 10px 5px;\"><span class=\"wprm-recipe-icon wprm-recipe-pin-icon\"><svg height=\"20px\" version=\"1.1\" viewbox=\"0 0 17 20\" width=\"17px\" xmlns=\"http://www.w3.org/2000/svg\" xmlns:xlink=\"http://www.w3.org/1999/xlink\"><g fill=\"none\" fill-rule=\"evenodd\" stroke=\"none\" stroke-width=\"1\"><g fill=\"#ffffff\" transform=\"translate(-4.000000, -2.000000)\"><path d=\"M10.7636728,15.2276266 C10.2077317,17.980299 9.52955405,20.6201377 7.52087891,22 C6.90029349,17.8380815 8.43177606,14.7128228 9.14286352,11.3948064 C7.93107647,9.46487979 9.28860706,5.58269488 11.8449959,6.53943073 C14.9902356,7.71595725 9.12053185,13.7114236 13.0614843,14.4612976 C17.1752134,15.2429061 18.8547902,7.71125585 16.3042782,5.26182401 C12.6183769,1.72519235 5.57332202,5.18072478 6.43955583,10.2441376 C6.65111904,11.4829577 8.00277289,11.8578948 6.98021737,13.5668554 C4.62128758,13.0720325 3.91607687,11.3125318 4.00775427,8.9665309 C4.15349781,5.12783398 7.65604429,2.43980586 11.1691689,2.06721954 C15.6119964,1.59707907 19.7821423,3.61045562 20.3580644,7.56198625 C21.0056829,12.0224439 18.3529153,16.8531372 13.6009705,16.5052333 C12.313961,16.4100298 11.7732994,15.8070747 10.7636728,15.2276266\"></path></g></g></svg></span> Pin Recipe</a>\n",
       "</div>\n",
       "<div class=\"wprm-spacer\" style=\"height: 20px\"></div>\n",
       "<div class=\"wprm-icon-shortcode wprm-icon-shortcode-separate wprm-align-center wprm-icon-decoration-line\" style=\"font-size: 26px;height: 26px;\"><div class=\"wprm-decoration-line\" style=\"border-color: #e0e0e0\"></div><span aria-hidden=\"true\" class=\"wprm-recipe-icon\"><svg height=\"16px\" version=\"1.1\" viewbox=\"0 0 24 24\" width=\"16px\" xmlns=\"http://www.w3.org/2000/svg\" xmlns:xlink=\"http://www.w3.org/1999/xlink\"><g fill=\"none\" fill-rule=\"evenodd\" stroke=\"none\" stroke-width=\"1\"><g fill=\"#004d69\"><g><path d=\"M12,0 C18.627,0 24,4.373 24,11 C24,19.406 18.646,24 18.646,24 L18.646,24 L5.354,24 C5.354,24 0,19.406 0,11 C0,4.373 5.373,0 12,0 Z M12,2 C6.206,2 2,5.785 2,11 C2,16.956 4.962,20.716 6.168,22 L6.168,22 L17.832,22 C19.032,20.724 22,16.962 22,11 C22,5.785 17.794,2 12,2 Z M15.4175,17.7983 C15.9697847,17.7983 16.4175,18.2460153 16.4175,18.7983 C16.4175,19.3111358 16.0314598,19.7338072 15.5341211,19.7915723 L15.4175,19.7983 L8.5825,19.7983 C8.03021525,19.7983 7.5825,19.3505847 7.5825,18.7983 C7.5825,18.2854642 7.96854019,17.8627928 8.46587887,17.8050277 L8.5825,17.7983 L15.4175,17.7983 Z M12,4.2544 C15.173,4.2544 17.746,6.8264 17.746,10.0004 C17.746,13.1734 15.173,15.7454 12,15.7454 C8.827,15.7454 6.254,13.1734 6.254,10.0004 C6.254,6.8264 8.827,4.2544 12,4.2544 Z M10.9999773,6.38993761 C9.41864646,6.82850486 8.254,8.28073633 8.254,10.0004 C8.254,12.0654 9.935,13.7454 12,13.7454 C14.065,13.7454 15.746,12.0654 15.746,10.0004 C15.746,8.28110051 14.5818468,6.82911997 13.0010273,6.39021638 L13,9.2962 C13,9.84848475 12.5522847,10.2962 12,10.2962 C11.4871642,10.2962 11.0644928,9.91015981 11.0067277,9.41282113 L11,9.2962 Z\"></path></g></g></g></svg></span> <div class=\"wprm-decoration-line\" style=\"border-color: #e0e0e0\"></div></div>\n",
       "<div class=\"wprm-recipe-meta-container wprm-recipe-times-container wprm-recipe-details-container wprm-recipe-details-container-table wprm-block-text-normal wprm-recipe-table-borders-none wprm-recipe-table-borders-inside\" style=\"border-width: 0;border-style: dotted;border-color: #666666;\"><div class=\"wprm-recipe-block-container wprm-recipe-block-container-table wprm-block-text-normal wprm-recipe-time-container wprm-recipe-prep-time-container\" style=\"border-width: 0;border-style: dotted;border-color: #666666;\"><span class=\"wprm-recipe-details-label wprm-block-text-uppercase-faded wprm-recipe-time-label wprm-recipe-prep-time-label\">Prep Time </span><span class=\"wprm-recipe-time wprm-block-text-normal\"><span class=\"wprm-recipe-details wprm-recipe-details-minutes wprm-recipe-prep_time wprm-recipe-prep_time-minutes\">20</span> <span class=\"wprm-recipe-details-unit wprm-recipe-details-minutes wprm-recipe-prep_time-unit wprm-recipe-prep_timeunit-minutes\">mins</span></span></div><div class=\"wprm-recipe-block-container wprm-recipe-block-container-table wprm-block-text-normal wprm-recipe-time-container wprm-recipe-cook-time-container\" style=\"border-width: 0;border-style: dotted;border-color: #666666;\"><span class=\"wprm-recipe-details-label wprm-block-text-uppercase-faded wprm-recipe-time-label wprm-recipe-cook-time-label\">Cook Time </span><span class=\"wprm-recipe-time wprm-block-text-normal\"><span class=\"wprm-recipe-details wprm-recipe-details-minutes wprm-recipe-cook_time wprm-recipe-cook_time-minutes\">55</span> <span class=\"wprm-recipe-details-unit wprm-recipe-details-minutes wprm-recipe-cook_time-unit wprm-recipe-cook_timeunit-minutes\">mins</span></span></div><div class=\"wprm-recipe-block-container wprm-recipe-block-container-table wprm-block-text-normal wprm-recipe-time-container wprm-recipe-total-time-container\" style=\"border-width: 0;border-style: dotted;border-color: #666666;\"><span class=\"wprm-recipe-details-label wprm-block-text-uppercase-faded wprm-recipe-time-label wprm-recipe-total-time-label\">Total Time </span><span class=\"wprm-recipe-time wprm-block-text-normal\"><span class=\"wprm-recipe-details wprm-recipe-details-hours wprm-recipe-total_time wprm-recipe-total_time-hours\">1</span> <span class=\"wprm-recipe-details-unit wprm-recipe-details-unit-hours wprm-recipe-total_time-unit wprm-recipe-total_timeunit-hours\">hr</span> <span class=\"wprm-recipe-details wprm-recipe-details-minutes wprm-recipe-total_time wprm-recipe-total_time-minutes\">15</span> <span class=\"wprm-recipe-details-unit wprm-recipe-details-minutes wprm-recipe-total_time-unit wprm-recipe-total_timeunit-minutes\">mins</span></span></div></div>\n",
       "<div class=\"wprm-spacer\"></div>\n",
       "<div class=\"wprm-container-columns-spaced\">\n",
       "<div>\n",
       "<div class=\"wprm-icon-shortcode wprm-icon-shortcode-separate wprm-align-center wprm-icon-decoration-line\" style=\"font-size: 26px;height: 26px;\"><div class=\"wprm-decoration-line\" style=\"border-color: #e0e0e0\"></div><span aria-hidden=\"true\" class=\"wprm-recipe-icon\"><svg height=\"16px\" version=\"1.1\" viewbox=\"0 0 24 24\" width=\"16px\" xmlns=\"http://www.w3.org/2000/svg\" xmlns:xlink=\"http://www.w3.org/1999/xlink\"><g fill=\"none\" fill-rule=\"evenodd\" stroke=\"none\" stroke-width=\"1\"><g fill=\"#004d69\"><path d=\"M19.5441,12.0586 L17.8411,12.3146 L17.8411,14.0376 L17.8411,17.8606 L6.1591,17.8606 L6.1591,14.0376 L6.1591,12.3146 L4.4561,12.0586 C3.0331,11.8446 2.0001,10.6536 2.0001,9.2246 C2.0001,7.6626 3.2471,6.3876 4.7971,6.3406 C4.8651,6.3486 4.9351,6.3556 5.0051,6.3576 L6.3221,6.4136 L6.8931,5.2246 C7.8481,3.2356 9.8051,1.9996 12.0001,1.9996 C14.1951,1.9996 16.1521,3.2356 17.1071,5.2246 L17.6781,6.4136 L18.9951,6.3576 C19.0641,6.3556 19.1321,6.3486 19.2021,6.3406 C20.7531,6.3866 22.0001,7.6626 22.0001,9.2246 C22.0001,10.6536 20.9671,11.8446 19.5441,12.0586 L19.5441,12.0586 Z M6.1591,22.0006 L17.8411,22.0006 L17.8411,19.8606 L6.1591,19.8606 L6.1591,22.0006 Z M19.1141,4.3386 C19.0451,4.3386 18.9801,4.3566 18.9101,4.3596 C17.6741,1.7836 15.0491,-0.0004 12.0001,-0.0004 C8.9511,-0.0004 6.3261,1.7836 5.0901,4.3596 C5.0211,4.3566 4.9551,4.3386 4.8861,4.3386 C2.1881,4.3386 0.0001,6.5266 0.0001,9.2246 C0.0001,11.6736 1.8081,13.6836 4.1591,14.0376 L4.1591,22.3756 C4.1591,23.2696 4.8901,23.9996 5.7831,23.9996 L18.2171,23.9996 C19.1101,23.9996 19.8411,23.2696 19.8411,22.3756 L19.8411,14.0376 C22.1911,13.6836 24.0001,11.6736 24.0001,9.2246 C24.0001,6.5266 21.8131,4.3386 19.1141,4.3386 L19.1141,4.3386 Z\" id=\"Fill-1\"></path></g></g></svg></span> <div class=\"wprm-decoration-line\" style=\"border-color: #e0e0e0\"></div></div>\n",
       "<div class=\"wprm-recipe-meta-container wprm-recipe-custom-container wprm-recipe-details-container wprm-recipe-details-container-table wprm-block-text-normal wprm-recipe-table-borders-none wprm-recipe-table-borders-inside\" style=\"border-width: 0;border-style: dotted;border-color: #666666;\"><div class=\"wprm-recipe-block-container wprm-recipe-block-container-table wprm-block-text-normal wprm-recipe-tag-container wprm-recipe-course-container\" style=\"border-width: 0;border-style: dotted;border-color: #666666;\"><span class=\"wprm-recipe-details-label wprm-block-text-uppercase-faded wprm-recipe-tag-label wprm-recipe-course-label\">Course </span><span class=\"wprm-recipe-course wprm-block-text-normal\">Cakes</span></div><div class=\"wprm-recipe-block-container wprm-recipe-block-container-table wprm-block-text-normal wprm-recipe-tag-container wprm-recipe-cuisine-container\" style=\"border-width: 0;border-style: dotted;border-color: #666666;\"><span class=\"wprm-recipe-details-label wprm-block-text-uppercase-faded wprm-recipe-tag-label wprm-recipe-cuisine-label\">Cuisine </span><span class=\"wprm-recipe-cuisine wprm-block-text-normal\">British</span></div></div>\n",
       "</div>\n",
       "<div>\n",
       "<div class=\"wprm-icon-shortcode wprm-icon-shortcode-separate wprm-align-center wprm-icon-decoration-line\" style=\"font-size: 26px;height: 26px;\"><div class=\"wprm-decoration-line\" style=\"border-color: #e0e0e0\"></div><span aria-hidden=\"true\" class=\"wprm-recipe-icon\"><svg height=\"16px\" viewbox=\"0 0 24 24\" width=\"16px\" x=\"0px\" xmlns=\"http://www.w3.org/2000/svg\" xmlns:xlink=\"http://www.w3.org/1999/xlink\" y=\"0px\"><g><path d=\"M10,0C9.4,0,9,0.4,9,1v4H7V1c0-0.6-0.4-1-1-1S5,0.4,5,1v4H3V1c0-0.6-0.4-1-1-1S1,0.4,1,1v8c0,1.7,1.3,3,3,3v10c0,1.1,0.9,2,2,2s2-0.9,2-2V12c1.7,0,3-1.3,3-3V1C11,0.4,10.6,0,10,0z\" fill=\"#004d69\"></path><path d=\"M19,0c-3.3,0-6,2.7-6,6v9c0,0.6,0.4,1,1,1h2v6c0,1.1,0.9,2,2,2s2-0.9,2-2V1C20,0.4,19.6,0,19,0z\" data-color=\"color-2\" fill=\"#004d69\"></path></g></svg></span> <div class=\"wprm-decoration-line\" style=\"border-color: #e0e0e0\"></div></div>\n",
       "<div class=\"wprm-recipe-meta-container wprm-recipe-custom-container wprm-recipe-details-container wprm-recipe-details-container-table wprm-block-text-normal wprm-recipe-table-borders-none wprm-recipe-table-borders-inside\" style=\"border-width: 0;border-style: dotted;border-color: #666666;\"><div class=\"wprm-recipe-block-container wprm-recipe-block-container-table wprm-block-text-normal wprm-recipe-servings-container\" style=\"border-width: 0;border-style: dotted;border-color: #666666;\"><span class=\"wprm-recipe-details-label wprm-block-text-uppercase-faded wprm-recipe-servings-label\">Servings </span><span class=\"wprm-recipe-servings-with-unit\"><span aria-label=\"Adjust recipe servings\" class=\"wprm-recipe-servings wprm-recipe-details wprm-recipe-servings-11198 wprm-recipe-servings-adjustable-disabled wprm-block-text-normal\" data-initial-servings=\"\" data-recipe=\"11198\">12</span> <span class=\"wprm-recipe-servings-unit wprm-recipe-details-unit wprm-block-text-normal\">slices</span></span></div><div class=\"wprm-recipe-block-container wprm-recipe-block-container-table wprm-block-text-normal wprm-recipe-nutrition-container wprm-recipe-calories-container\" style=\"border-width: 0;border-style: dotted;border-color: #666666;\"><span class=\"wprm-recipe-details-label wprm-block-text-uppercase-faded wprm-recipe-nutrition-label wprm-recipe-calories-label\">Calories </span><span class=\"wprm-recipe-nutrition-with-unit\"><span class=\"wprm-recipe-details wprm-recipe-nutrition wprm-recipe-calories wprm-block-text-normal\">439</span> <span class=\"wprm-recipe-details-unit wprm-recipe-nutrition-unit wprm-recipe-calories-unit wprm-block-text-normal\">kcal</span></span></div></div>\n",
       "</div>\n",
       "</div>\n",
       "<div class=\"wprm-recipe-ingredients-container wprm-recipe-11198-ingredients-container wprm-block-text-normal wprm-ingredient-style-regular\" data-recipe=\"11198\" data-servings=\"12\"><h3 class=\"wprm-recipe-header wprm-recipe-ingredients-header wprm-block-text-uppercase wprm-align-center wprm-header-decoration-line wprm-header-has-actions\" style=\"\"><div class=\"wprm-decoration-line\" style=\"border-color: #e0e0e0\"></div>Ingredients<div class=\"wprm-decoration-line\" style=\"border-color: #e0e0e0\"></div> <div class=\"wprm-unit-conversion-container wprm-unit-conversion-container-11198 wprm-unit-conversion-container-buttons wprm-block-text-normal\" style=\"background-color: #ffffff;border-color: #616161;color: #616161;border-radius: 3px;\"><button aria-label=\"Change unit system to UK (metric)\" class=\"wprm-unit-conversion wprmpuc-active\" data-recipe=\"11198\" data-system=\"1\" href=\"#\" style=\"background-color: #616161;color: #ffffff;\">UK (metric)</button><button aria-label=\"Change unit system to **Convert to US Measures**\" class=\"wprm-unit-conversion\" data-recipe=\"11198\" data-system=\"2\" href=\"#\" style=\"background-color: #616161;color: #ffffff;border-left: 1px solid #616161;\">**Convert to US Measures**</button></div></h3><div class=\"wprm-recipe-ingredient-group\"><h4 class=\"wprm-recipe-group-name wprm-recipe-ingredient-group-name wprm-block-text-faded\">Frangipane:</h4><ul class=\"wprm-recipe-ingredients\"><li class=\"wprm-recipe-ingredient\" style=\"list-style-type: none;\"><span class=\"wprm-checkbox-container\"><input aria-label=\"60 g 2oz unsalted butter - softened\" class=\"wprm-checkbox\" id=\"wprm-checkbox-0\" type=\"checkbox\"/><label class=\"wprm-checkbox-label\" for=\"wprm-checkbox-0\"><span class=\"sr-only screen-reader-text wprm-screen-reader-text\">▢ </span></label></span><span class=\"wprm-recipe-ingredient-amount\">60</span> <span class=\"wprm-recipe-ingredient-unit\">g</span> <span class=\"wprm-recipe-ingredient-name\">2oz unsalted butter</span> - <span class=\"wprm-recipe-ingredient-notes wprm-recipe-ingredient-notes-faded\">softened</span></li><li class=\"wprm-recipe-ingredient\" style=\"list-style-type: none;\"><span class=\"wprm-checkbox-container\"><input aria-label=\"50 g 1.75oz golden caster sugar\" class=\"wprm-checkbox\" id=\"wprm-checkbox-1\" type=\"checkbox\"/><label class=\"wprm-checkbox-label\" for=\"wprm-checkbox-1\"><span class=\"sr-only screen-reader-text wprm-screen-reader-text\">▢ </span></label></span><span class=\"wprm-recipe-ingredient-amount\">50</span> <span class=\"wprm-recipe-ingredient-unit\">g</span> <span class=\"wprm-recipe-ingredient-name\">1.75oz golden caster sugar</span></li><li class=\"wprm-recipe-ingredient\" style=\"list-style-type: none;\"><span class=\"wprm-checkbox-container\"><input aria-label=\"1 large egg\" class=\"wprm-checkbox\" id=\"wprm-checkbox-2\" type=\"checkbox\"/><label class=\"wprm-checkbox-label\" for=\"wprm-checkbox-2\"><span class=\"sr-only screen-reader-text wprm-screen-reader-text\">▢ </span></label></span><span class=\"wprm-recipe-ingredient-amount\">1</span> <span class=\"wprm-recipe-ingredient-name\">large egg</span></li><li class=\"wprm-recipe-ingredient\" style=\"list-style-type: none;\"><span class=\"wprm-checkbox-container\"><input aria-label=\"35 g 4tbsp plain flour\" class=\"wprm-checkbox\" id=\"wprm-checkbox-3\" type=\"checkbox\"/><label class=\"wprm-checkbox-label\" for=\"wprm-checkbox-3\"><span class=\"sr-only screen-reader-text wprm-screen-reader-text\">▢ </span></label></span><span class=\"wprm-recipe-ingredient-amount\">35</span> <span class=\"wprm-recipe-ingredient-unit\">g</span> <span class=\"wprm-recipe-ingredient-name\">4tbsp plain flour</span></li><li class=\"wprm-recipe-ingredient\" style=\"list-style-type: none;\"><span class=\"wprm-checkbox-container\"><input aria-label=\"¼ tsp baking powder\" class=\"wprm-checkbox\" id=\"wprm-checkbox-4\" type=\"checkbox\"/><label class=\"wprm-checkbox-label\" for=\"wprm-checkbox-4\"><span class=\"sr-only screen-reader-text wprm-screen-reader-text\">▢ </span></label></span><span class=\"wprm-recipe-ingredient-amount\">¼</span> <span class=\"wprm-recipe-ingredient-unit\">tsp</span> <span class=\"wprm-recipe-ingredient-name\">baking powder</span></li><li class=\"wprm-recipe-ingredient\" style=\"list-style-type: none;\"><span class=\"wprm-checkbox-container\"><input aria-label=\"60 g 2oz ground almonds\" class=\"wprm-checkbox\" id=\"wprm-checkbox-5\" type=\"checkbox\"/><label class=\"wprm-checkbox-label\" for=\"wprm-checkbox-5\"><span class=\"sr-only screen-reader-text wprm-screen-reader-text\">▢ </span></label></span><span class=\"wprm-recipe-ingredient-amount\">60</span> <span class=\"wprm-recipe-ingredient-unit\">g</span> <span class=\"wprm-recipe-ingredient-name\">2oz ground almonds</span></li><li class=\"wprm-recipe-ingredient\" style=\"list-style-type: none;\"><span class=\"wprm-checkbox-container\"><input aria-label=\"½ tsp almond extract\" class=\"wprm-checkbox\" id=\"wprm-checkbox-6\" type=\"checkbox\"/><label class=\"wprm-checkbox-label\" for=\"wprm-checkbox-6\"><span class=\"sr-only screen-reader-text wprm-screen-reader-text\">▢ </span></label></span><span class=\"wprm-recipe-ingredient-amount\">½</span> <span class=\"wprm-recipe-ingredient-unit\">tsp</span> <span class=\"wprm-recipe-ingredient-name\"><a class=\"wprm-recipe-ingredient-link\" href=\"http://geni.us/AlmondExtract\" rel=\"nofollow\" target=\"_blank\">almond extract</a></span></li></ul></div><div class=\"wprm-recipe-ingredient-group\"><h4 class=\"wprm-recipe-group-name wprm-recipe-ingredient-group-name wprm-block-text-faded\">Chocolate Banana Loaf:</h4><ul class=\"wprm-recipe-ingredients\"><li class=\"wprm-recipe-ingredient\" style=\"list-style-type: none;\"><span class=\"wprm-checkbox-container\"><input aria-label=\"1 large egg\" class=\"wprm-checkbox\" id=\"wprm-checkbox-7\" type=\"checkbox\"/><label class=\"wprm-checkbox-label\" for=\"wprm-checkbox-7\"><span class=\"sr-only screen-reader-text wprm-screen-reader-text\">▢ </span></label></span><span class=\"wprm-recipe-ingredient-amount\">1</span> <span class=\"wprm-recipe-ingredient-name\">large egg</span></li><li class=\"wprm-recipe-ingredient\" style=\"list-style-type: none;\"><span class=\"wprm-checkbox-container\"><input aria-label=\"75 ml 2.5fl oz vegetable oil\" class=\"wprm-checkbox\" id=\"wprm-checkbox-8\" type=\"checkbox\"/><label class=\"wprm-checkbox-label\" for=\"wprm-checkbox-8\"><span class=\"sr-only screen-reader-text wprm-screen-reader-text\">▢ </span></label></span><span class=\"wprm-recipe-ingredient-amount\">75</span> <span class=\"wprm-recipe-ingredient-unit\">ml</span> <span class=\"wprm-recipe-ingredient-name\">2.5fl oz vegetable oil</span></li><li class=\"wprm-recipe-ingredient\" style=\"list-style-type: none;\"><span class=\"wprm-checkbox-container\"><input aria-label=\"125 g 4.5oz golden caster sugar\" class=\"wprm-checkbox\" id=\"wprm-checkbox-9\" type=\"checkbox\"/><label class=\"wprm-checkbox-label\" for=\"wprm-checkbox-9\"><span class=\"sr-only screen-reader-text wprm-screen-reader-text\">▢ </span></label></span><span class=\"wprm-recipe-ingredient-amount\">125</span> <span class=\"wprm-recipe-ingredient-unit\">g</span> <span class=\"wprm-recipe-ingredient-name\">4.5oz golden caster sugar</span></li><li class=\"wprm-recipe-ingredient\" style=\"list-style-type: none;\"><span class=\"wprm-checkbox-container\"><input aria-label=\"3 very ripe bananas - peeled and roughly chopped\" class=\"wprm-checkbox\" id=\"wprm-checkbox-10\" type=\"checkbox\"/><label class=\"wprm-checkbox-label\" for=\"wprm-checkbox-10\"><span class=\"sr-only screen-reader-text wprm-screen-reader-text\">▢ </span></label></span><span class=\"wprm-recipe-ingredient-amount\">3</span> <span class=\"wprm-recipe-ingredient-name\">very ripe bananas</span> - <span class=\"wprm-recipe-ingredient-notes wprm-recipe-ingredient-notes-faded\">peeled and roughly chopped</span></li><li class=\"wprm-recipe-ingredient\" style=\"list-style-type: none;\"><span class=\"wprm-checkbox-container\"><input aria-label=\"150 g 5.3oz plain flour\" class=\"wprm-checkbox\" id=\"wprm-checkbox-11\" type=\"checkbox\"/><label class=\"wprm-checkbox-label\" for=\"wprm-checkbox-11\"><span class=\"sr-only screen-reader-text wprm-screen-reader-text\">▢ </span></label></span><span class=\"wprm-recipe-ingredient-amount\">150</span> <span class=\"wprm-recipe-ingredient-unit\">g</span> <span class=\"wprm-recipe-ingredient-name\">5.3oz plain flour</span></li><li class=\"wprm-recipe-ingredient\" style=\"list-style-type: none;\"><span class=\"wprm-checkbox-container\"><input aria-label=\"25 g 0.9oz cocoa powder - sieved\" class=\"wprm-checkbox\" id=\"wprm-checkbox-12\" type=\"checkbox\"/><label class=\"wprm-checkbox-label\" for=\"wprm-checkbox-12\"><span class=\"sr-only screen-reader-text wprm-screen-reader-text\">▢ </span></label></span><span class=\"wprm-recipe-ingredient-amount\">25</span> <span class=\"wprm-recipe-ingredient-unit\">g</span> <span class=\"wprm-recipe-ingredient-name\">0.9oz cocoa powder</span> - <span class=\"wprm-recipe-ingredient-notes wprm-recipe-ingredient-notes-faded\">sieved</span></li><li class=\"wprm-recipe-ingredient\" style=\"list-style-type: none;\"><span class=\"wprm-checkbox-container\"><input aria-label=\"½ tsp bicarbonate of soda\" class=\"wprm-checkbox\" id=\"wprm-checkbox-13\" type=\"checkbox\"/><label class=\"wprm-checkbox-label\" for=\"wprm-checkbox-13\"><span class=\"sr-only screen-reader-text wprm-screen-reader-text\">▢ </span></label></span><span class=\"wprm-recipe-ingredient-amount\">½</span> <span class=\"wprm-recipe-ingredient-unit\">tsp</span> <span class=\"wprm-recipe-ingredient-name\">bicarbonate of soda</span></li><li class=\"wprm-recipe-ingredient\" style=\"list-style-type: none;\"><span class=\"wprm-checkbox-container\"><input aria-label=\"½ tsp baking powder\" class=\"wprm-checkbox\" id=\"wprm-checkbox-14\" type=\"checkbox\"/><label class=\"wprm-checkbox-label\" for=\"wprm-checkbox-14\"><span class=\"sr-only screen-reader-text wprm-screen-reader-text\">▢ </span></label></span><span class=\"wprm-recipe-ingredient-amount\">½</span> <span class=\"wprm-recipe-ingredient-unit\">tsp</span> <span class=\"wprm-recipe-ingredient-name\">baking powder</span></li><li class=\"wprm-recipe-ingredient\" style=\"list-style-type: none;\"><span class=\"wprm-checkbox-container\"><input aria-label=\"50 g 1.75oz chocolate chips\" class=\"wprm-checkbox\" id=\"wprm-checkbox-15\" type=\"checkbox\"/><label class=\"wprm-checkbox-label\" for=\"wprm-checkbox-15\"><span class=\"sr-only screen-reader-text wprm-screen-reader-text\">▢ </span></label></span><span class=\"wprm-recipe-ingredient-amount\">50</span> <span class=\"wprm-recipe-ingredient-unit\">g</span> <span class=\"wprm-recipe-ingredient-name\">1.75oz chocolate chips</span></li></ul></div><div class=\"wprm-recipe-ingredient-group\"><h4 class=\"wprm-recipe-group-name wprm-recipe-ingredient-group-name wprm-block-text-faded\">Almond Frosting:</h4><ul class=\"wprm-recipe-ingredients\"><li class=\"wprm-recipe-ingredient\" style=\"list-style-type: none;\"><span class=\"wprm-checkbox-container\"><input aria-label=\"140 g 1cup confectioners sugar - sieved\" class=\"wprm-checkbox\" id=\"wprm-checkbox-16\" type=\"checkbox\"/><label class=\"wprm-checkbox-label\" for=\"wprm-checkbox-16\"><span class=\"sr-only screen-reader-text wprm-screen-reader-text\">▢ </span></label></span><span class=\"wprm-recipe-ingredient-amount\">140</span> <span class=\"wprm-recipe-ingredient-unit\">g</span> <span class=\"wprm-recipe-ingredient-name\">1cup confectioners sugar</span> - <span class=\"wprm-recipe-ingredient-notes wprm-recipe-ingredient-notes-faded\">sieved</span></li><li class=\"wprm-recipe-ingredient\" style=\"list-style-type: none;\"><span class=\"wprm-checkbox-container\"><input aria-label=\"2-3 tbsp. double/heavy cream\" class=\"wprm-checkbox\" id=\"wprm-checkbox-17\" type=\"checkbox\"/><label class=\"wprm-checkbox-label\" for=\"wprm-checkbox-17\"><span class=\"sr-only screen-reader-text wprm-screen-reader-text\">▢ </span></label></span><span class=\"wprm-recipe-ingredient-amount\">2-3</span> <span class=\"wprm-recipe-ingredient-unit\">tbsp.</span> <span class=\"wprm-recipe-ingredient-name\">double/heavy cream</span></li><li class=\"wprm-recipe-ingredient\" style=\"list-style-type: none;\"><span class=\"wprm-checkbox-container\"><input aria-label=\"¼ tsp vanilla extract\" class=\"wprm-checkbox\" id=\"wprm-checkbox-18\" type=\"checkbox\"/><label class=\"wprm-checkbox-label\" for=\"wprm-checkbox-18\"><span class=\"sr-only screen-reader-text wprm-screen-reader-text\">▢ </span></label></span><span class=\"wprm-recipe-ingredient-amount\">¼</span> <span class=\"wprm-recipe-ingredient-unit\">tsp</span> <span class=\"wprm-recipe-ingredient-name\"><a class=\"wprm-recipe-ingredient-link\" href=\"http://geni.us/KSVanillaExtract\" rel=\"nofollow\" target=\"_blank\">vanilla extract</a></span></li><li class=\"wprm-recipe-ingredient\" style=\"list-style-type: none;\"><span class=\"wprm-checkbox-container\"><input aria-label=\"1 tsp almond extract\" class=\"wprm-checkbox\" id=\"wprm-checkbox-19\" type=\"checkbox\"/><label class=\"wprm-checkbox-label\" for=\"wprm-checkbox-19\"><span class=\"sr-only screen-reader-text wprm-screen-reader-text\">▢ </span></label></span><span class=\"wprm-recipe-ingredient-amount\">1</span> <span class=\"wprm-recipe-ingredient-unit\">tsp</span> <span class=\"wprm-recipe-ingredient-name\"><a class=\"wprm-recipe-ingredient-link\" href=\"http://geni.us/AlmondExtract\" rel=\"nofollow\" target=\"_blank\">almond extract</a></span></li><li class=\"wprm-recipe-ingredient\" style=\"list-style-type: none;\"><span class=\"wprm-checkbox-container\"><input aria-label=\"Candied nuts\" class=\"wprm-checkbox\" id=\"wprm-checkbox-20\" type=\"checkbox\"/><label class=\"wprm-checkbox-label\" for=\"wprm-checkbox-20\"><span class=\"sr-only screen-reader-text wprm-screen-reader-text\">▢ </span></label></span><span class=\"wprm-recipe-ingredient-name\">Candied nuts</span></li><li class=\"wprm-recipe-ingredient\" style=\"list-style-type: none;\"><span class=\"wprm-checkbox-container\"><input aria-label=\"120 g ½ cup golden caster sugar\" class=\"wprm-checkbox\" id=\"wprm-checkbox-21\" type=\"checkbox\"/><label class=\"wprm-checkbox-label\" for=\"wprm-checkbox-21\"><span class=\"sr-only screen-reader-text wprm-screen-reader-text\">▢ </span></label></span><span class=\"wprm-recipe-ingredient-amount\">120</span> <span class=\"wprm-recipe-ingredient-unit\">g</span> <span class=\"wprm-recipe-ingredient-name\">½ cup golden caster sugar</span></li><li class=\"wprm-recipe-ingredient\" style=\"list-style-type: none;\"><span class=\"wprm-checkbox-container\"><input aria-label=\"100 g ¾ cup mixed, whole pecans and almonds (skin on)\" class=\"wprm-checkbox\" id=\"wprm-checkbox-22\" type=\"checkbox\"/><label class=\"wprm-checkbox-label\" for=\"wprm-checkbox-22\"><span class=\"sr-only screen-reader-text wprm-screen-reader-text\">▢ </span></label></span><span class=\"wprm-recipe-ingredient-amount\">100</span> <span class=\"wprm-recipe-ingredient-unit\">g</span> <span class=\"wprm-recipe-ingredient-name\">¾ cup mixed, whole pecans and almonds (skin on)</span></li></ul></div></div>\n",
       "<style type=\"text/css\">ul.wprm-advanced-list-9611 li:before {background-color: #004d69;color: #ffffff;width: 20px;height: 20px;font-size: 12px;line-height: 12px;}</style><div class=\"wprm-recipe-instructions-container wprm-recipe-11198-instructions-container wprm-block-text-normal\" data-recipe=\"11198\"><h3 class=\"wprm-recipe-header wprm-recipe-instructions-header wprm-block-text-uppercase wprm-align-center wprm-header-decoration-line wprm-header-has-actions\" style=\"\"><div class=\"wprm-decoration-line\" style=\"border-color: #e0e0e0\"></div>INSTRUCTIONS<div class=\"wprm-decoration-line\" style=\"border-color: #e0e0e0\"></div> </h3><div class=\"wprm-recipe-instruction-group\"><ul class=\"wprm-advanced-list wprm-advanced-list-reset wprm-advanced-list-9611 wprm-recipe-instructions\"><li class=\"wprm-recipe-instruction\" id=\"wprm-recipe-11198-step-0-0\" style=\"list-style-type: none;\"><div class=\"wprm-recipe-instruction-text\" style=\"margin-bottom: 8px\">Preheat oven to 180c. Line a 2lb loaf tin with baking parchment.</div></li><li class=\"wprm-recipe-instruction\" id=\"wprm-recipe-11198-step-0-1\" style=\"list-style-type: none;\"><div class=\"wprm-recipe-instruction-text\" style=\"margin-bottom: 8px\">First make your frangipane. Beat the butter and sugar together for a few minutes until light and creamy (you can do this in a mixer or by hand). Add the egg and beat again for a minute. Add the flour, baking powder, ground almonds and almond extract and mix for 2 more minutes. Cover and place in the fridge whilst you make the chocolate banana cake.</div></li><li class=\"wprm-recipe-instruction\" id=\"wprm-recipe-11198-step-0-2\" style=\"list-style-type: none;\"><div class=\"wprm-recipe-instruction-text\" style=\"margin-bottom: 8px\">In a mixer, whisk the egg, oil and sugar until combined, then add in the bananas. Whisk again until the banana breaks down and you’ve got a slightly lumpy liquid.</div></li><li class=\"wprm-recipe-instruction\" id=\"wprm-recipe-11198-step-0-3\" style=\"list-style-type: none;\"><div class=\"wprm-recipe-instruction-text\" style=\"margin-bottom: 8px\">Add in the flour, sieved cocoa powder, baking powder and bicarbonate of soda. Gently stir into the banana mixture using a silicone spatula or wooden spoon until combined. Then add in the chocolate chips and gently and stir again.</div></li><li class=\"wprm-recipe-instruction\" id=\"wprm-recipe-11198-step-0-4\" style=\"list-style-type: none;\"><div class=\"wprm-recipe-instruction-text\" style=\"margin-bottom: 8px\">Pour a third of the chocolate mixture into into the loaf tin, then dot half of the frangipane in little lumps on top. Pour another third of chocolate mix on top, then add in the remaining frangine in little dots. Use a cocktail stick to give the frangipane a couple of little swirls into the chocolate mixture. Pour the remaining chocolate mixture on top. Place in the oven to cook for 40-50 minutes (check it’s done after 40 minutes by inserting a metal skewer in the cake, if it comes out clean, it’s cooked). You may need to cover the cake with a bit of foil if it needs to cook for more than 40 minutes.</div></li><li class=\"wprm-recipe-instruction\" id=\"wprm-recipe-11198-step-0-5\" style=\"list-style-type: none;\"><div class=\"wprm-recipe-instruction-text\" style=\"margin-bottom: 8px\">Take the cake out of the oven and allow to cool in the tin for 10 minutes, before removing from the tin and allowing to cool completely on a cooling rack.</div></li><li class=\"wprm-recipe-instruction\" id=\"wprm-recipe-11198-step-0-6\" style=\"list-style-type: none;\"><div class=\"wprm-recipe-instruction-text\" style=\"margin-bottom: 8px\">Whilst the cake is cooling make the frosting and candied nuts.</div></li><li class=\"wprm-recipe-instruction\" id=\"wprm-recipe-11198-step-0-7\" style=\"list-style-type: none;\"><div class=\"wprm-recipe-instruction-text\" style=\"margin-bottom: 8px\">For the frosting, whisk together the confectioners sugar, 2tbsp cream, the vanilla extract and half the almond extract. You're looking for a spreadable consistency, so you need to ensure it's quite thick. Add a little more cream if required. Taste and then add the remaining almond extract if you want a stronger almond taste. Put to one side.</div></li><li class=\"wprm-recipe-instruction\" id=\"wprm-recipe-11198-step-0-8\" style=\"list-style-type: none;\"><div class=\"wprm-recipe-instruction-text\" style=\"margin-bottom: 8px\">Next make your candied nuts. Place a piece of baking parchment on a tray and put to one side. Add the sugar to a small, heavy bottomed pan, ensuring it's in an even layer and heat slowly. The sugar will slowly start to melt at the edges first. Continue to heat until the caramel on the outside is molten and golden brown with a couple of bubbles starting to appear. Do not stir! This should take about 4 - 5 minutes. Turn off the heat before the sugar goes too brown, as it will burn very quickly. There may still be a tiny bit of unmelted sugar in the middle. This is ok, just leave the pan for about 30 seconds to allow the remaining bit of sugar to melt.</div></li><li class=\"wprm-recipe-instruction\" id=\"wprm-recipe-11198-step-0-9\" style=\"list-style-type: none;\"><div class=\"wprm-recipe-instruction-text\" style=\"margin-bottom: 8px\">Working quickly, add your nuts and stir with a wooden spoon, tip it out onto the baking parchment and then flatten the mixture out very quickly using the wooden spoon. Don't touch the mixture as it will still be very hot. Allow the nutty caramel to cool and harden ( about 5 - 10 minutes), then break it up using your hands.</div></li><li class=\"wprm-recipe-instruction\" id=\"wprm-recipe-11198-step-0-10\" style=\"list-style-type: none;\"><div class=\"wprm-recipe-instruction-text\" style=\"margin-bottom: 8px\">Now you're ready to assemble. Use a palette knife to spread the frosting all over the top of the cake. Sprinkle the candied nuts on top and serve.</div></li></ul></div></div>\n",
       "<div class=\"wprm-recipe-notes-container wprm-block-text-normal\"><h3 class=\"wprm-recipe-header wprm-recipe-notes-header wprm-block-text-uppercase wprm-align-center wprm-header-decoration-line\" style=\"\"><div class=\"wprm-decoration-line\" style=\"border-color: #e0e0e0\"></div>✎ Notes<div class=\"wprm-decoration-line\" style=\"border-color: #e0e0e0\"></div></h3><div class=\"wprm-recipe-notes\"><span style=\"display: block;\">The banana bread without any toppings will keep well for 3 days if wrapped and placed in a sealed container at room temperature.<br/>With the toppings, the cake will last for around a day and a half before the candied nuts will start to soften. Keep covered and sealed in a cool room (there is cream in the frosting, so you don't want to leave it to get warm).</span><div class=\"wprm-spacer\"></div>\n",
       "<span style=\"display: block;\">.</span><div class=\"wprm-spacer\"></div>\n",
       "<span style=\"display: block;\"><strong>Nutritional Information is per serving.</strong></span></div></div>\n",
       "<h3 class=\"wprm-recipe-header wprm-recipe-nutrition-header wprm-block-text-uppercase wprm-align-center wprm-header-decoration-line\" style=\"\"><div class=\"wprm-decoration-line\" style=\"border-color: #e0e0e0\"></div>Nutrition<div class=\"wprm-decoration-line\" style=\"border-color: #e0e0e0\"></div></h3><div class=\"wprm-nutrition-label-container wprm-nutrition-label-container-grouped wprm-block-text-normal\" style=\"text-align: left;\"><span class=\"wprm-nutrition-label-text-nutrition-container wprm-nutrition-label-text-nutrition-container-serving_size\" style=\"flex-basis: 175px\"><span class=\"wprm-nutrition-label-text-nutrition-label wprm-block-text-faded\" style=\"color: #333333\">Serving: </span><span class=\"wprm-nutrition-label-text-nutrition-value\" style=\"color: #333333\">123</span><span class=\"wprm-nutrition-label-text-nutrition-unit\" style=\"color: #333333\">g</span></span><span class=\"wprm-nutrition-label-text-nutrition-container wprm-nutrition-label-text-nutrition-container-calories\" style=\"flex-basis: 175px\"><span class=\"wprm-nutrition-label-text-nutrition-label wprm-block-text-faded\" style=\"color: #333333\">Calories: </span><span class=\"wprm-nutrition-label-text-nutrition-value\" style=\"color: #333333\">439</span><span class=\"wprm-nutrition-label-text-nutrition-unit\" style=\"color: #333333\">kcal</span></span><span class=\"wprm-nutrition-label-text-nutrition-container wprm-nutrition-label-text-nutrition-container-carbohydrates\" style=\"flex-basis: 175px\"><span class=\"wprm-nutrition-label-text-nutrition-label wprm-block-text-faded\" style=\"color: #333333\">Carbohydrates: </span><span class=\"wprm-nutrition-label-text-nutrition-value\" style=\"color: #333333\">61</span><span class=\"wprm-nutrition-label-text-nutrition-unit\" style=\"color: #333333\">g</span></span><span class=\"wprm-nutrition-label-text-nutrition-container wprm-nutrition-label-text-nutrition-container-protein\" style=\"flex-basis: 175px\"><span class=\"wprm-nutrition-label-text-nutrition-label wprm-block-text-faded\" style=\"color: #333333\">Protein: </span><span class=\"wprm-nutrition-label-text-nutrition-value\" style=\"color: #333333\">5</span><span class=\"wprm-nutrition-label-text-nutrition-unit\" style=\"color: #333333\">g</span></span><span class=\"wprm-nutrition-label-text-nutrition-container wprm-nutrition-label-text-nutrition-container-fat\" style=\"flex-basis: 175px\"><span class=\"wprm-nutrition-label-text-nutrition-label wprm-block-text-faded\" style=\"color: #333333\">Fat: </span><span class=\"wprm-nutrition-label-text-nutrition-value\" style=\"color: #333333\">21</span><span class=\"wprm-nutrition-label-text-nutrition-unit\" style=\"color: #333333\">g</span></span><span class=\"wprm-nutrition-label-text-nutrition-container wprm-nutrition-label-text-nutrition-container-saturated_fat\" style=\"flex-basis: 175px\"><span class=\"wprm-nutrition-label-text-nutrition-label wprm-block-text-faded\" style=\"color: #333333\">Saturated Fat: </span><span class=\"wprm-nutrition-label-text-nutrition-value\" style=\"color: #333333\">9</span><span class=\"wprm-nutrition-label-text-nutrition-unit\" style=\"color: #333333\">g</span></span><span class=\"wprm-nutrition-label-text-nutrition-container wprm-nutrition-label-text-nutrition-container-cholesterol\" style=\"flex-basis: 175px\"><span class=\"wprm-nutrition-label-text-nutrition-label wprm-block-text-faded\" style=\"color: #333333\">Cholesterol: </span><span class=\"wprm-nutrition-label-text-nutrition-value\" style=\"color: #333333\">42</span><span class=\"wprm-nutrition-label-text-nutrition-unit\" style=\"color: #333333\">mg</span></span><span class=\"wprm-nutrition-label-text-nutrition-container wprm-nutrition-label-text-nutrition-container-sodium\" style=\"flex-basis: 175px\"><span class=\"wprm-nutrition-label-text-nutrition-label wprm-block-text-faded\" style=\"color: #333333\">Sodium: </span><span class=\"wprm-nutrition-label-text-nutrition-value\" style=\"color: #333333\">69</span><span class=\"wprm-nutrition-label-text-nutrition-unit\" style=\"color: #333333\">mg</span></span><span class=\"wprm-nutrition-label-text-nutrition-container wprm-nutrition-label-text-nutrition-container-potassium\" style=\"flex-basis: 175px\"><span class=\"wprm-nutrition-label-text-nutrition-label wprm-block-text-faded\" style=\"color: #333333\">Potassium: </span><span class=\"wprm-nutrition-label-text-nutrition-value\" style=\"color: #333333\">226</span><span class=\"wprm-nutrition-label-text-nutrition-unit\" style=\"color: #333333\">mg</span></span><span class=\"wprm-nutrition-label-text-nutrition-container wprm-nutrition-label-text-nutrition-container-fiber\" style=\"flex-basis: 175px\"><span class=\"wprm-nutrition-label-text-nutrition-label wprm-block-text-faded\" style=\"color: #333333\">Fiber: </span><span class=\"wprm-nutrition-label-text-nutrition-value\" style=\"color: #333333\">3</span><span class=\"wprm-nutrition-label-text-nutrition-unit\" style=\"color: #333333\">g</span></span><span class=\"wprm-nutrition-label-text-nutrition-container wprm-nutrition-label-text-nutrition-container-sugar\" style=\"flex-basis: 175px\"><span class=\"wprm-nutrition-label-text-nutrition-label wprm-block-text-faded\" style=\"color: #333333\">Sugar: </span><span class=\"wprm-nutrition-label-text-nutrition-value\" style=\"color: #333333\">42</span><span class=\"wprm-nutrition-label-text-nutrition-unit\" style=\"color: #333333\">g</span></span><span class=\"wprm-nutrition-label-text-nutrition-container wprm-nutrition-label-text-nutrition-container-vitamin_a\" style=\"flex-basis: 175px\"><span class=\"wprm-nutrition-label-text-nutrition-label wprm-block-text-faded\" style=\"color: #333333\">Vitamin A: </span><span class=\"wprm-nutrition-label-text-nutrition-value\" style=\"color: #333333\">235</span><span class=\"wprm-nutrition-label-text-nutrition-unit\" style=\"color: #333333\">IU</span></span><span class=\"wprm-nutrition-label-text-nutrition-container wprm-nutrition-label-text-nutrition-container-vitamin_c\" style=\"flex-basis: 175px\"><span class=\"wprm-nutrition-label-text-nutrition-label wprm-block-text-faded\" style=\"color: #333333\">Vitamin C: </span><span class=\"wprm-nutrition-label-text-nutrition-value\" style=\"color: #333333\">2.6</span><span class=\"wprm-nutrition-label-text-nutrition-unit\" style=\"color: #333333\">mg</span></span><span class=\"wprm-nutrition-label-text-nutrition-container wprm-nutrition-label-text-nutrition-container-calcium\" style=\"flex-basis: 175px\"><span class=\"wprm-nutrition-label-text-nutrition-label wprm-block-text-faded\" style=\"color: #333333\">Calcium: </span><span class=\"wprm-nutrition-label-text-nutrition-value\" style=\"color: #333333\">47</span><span class=\"wprm-nutrition-label-text-nutrition-unit\" style=\"color: #333333\">mg</span></span><span class=\"wprm-nutrition-label-text-nutrition-container wprm-nutrition-label-text-nutrition-container-iron\" style=\"flex-basis: 175px\"><span class=\"wprm-nutrition-label-text-nutrition-label wprm-block-text-faded\" style=\"color: #333333\">Iron: </span><span class=\"wprm-nutrition-label-text-nutrition-value\" style=\"color: #333333\">1.7</span><span class=\"wprm-nutrition-label-text-nutrition-unit\" style=\"color: #333333\">mg</span></span></div>\n",
       "<div class=\"wprm-spacer\" style=\"height: 20px\"></div>\n",
       "<div class=\"wprm-icon-shortcode wprm-icon-shortcode-separate wprm-align-center wprm-icon-decoration-line\" style=\"font-size: 26px;height: 26px;\"><div class=\"wprm-decoration-line\" style=\"border-color: #e0e0e0\"></div><span aria-hidden=\"true\" class=\"wprm-recipe-icon\"><svg height=\"16px\" version=\"1.1\" viewbox=\"0 0 24 24\" width=\"16px\" xmlns=\"http://www.w3.org/2000/svg\" xmlns:xlink=\"http://www.w3.org/1999/xlink\"><g fill=\"none\" fill-rule=\"evenodd\" id=\"Icons\" stroke=\"none\" stroke-width=\"1\"><g fill=\"#004d69\"><path d=\"M9.0039,16.0079 C5.1419,16.0079 1.9999,12.8659 1.9999,9.0039 C1.9999,5.1419 5.1419,1.9999 9.0039,1.9999 C12.8659,1.9999 16.0079,5.1419 16.0079,9.0039 C16.0079,12.8659 12.8659,16.0079 9.0039,16.0079 M23.6209,22.2069 L16.1439,14.7299 C16.1059,14.6919 16.0579,14.6759 16.0159,14.6449 C17.2599,13.1009 18.0079,11.1409 18.0079,9.0039 C18.0079,4.0309 13.9769,-0.0001 9.0039,-0.0001 C4.0309,-0.0001 -0.0001,4.0309 -0.0001,9.0039 C-0.0001,13.9769 4.0309,18.0079 9.0039,18.0079 C11.1409,18.0079 13.1009,17.2599 14.6449,16.0169 C14.6749,16.0579 14.6919,16.1059 14.7299,16.1439 L22.2069,23.6209 C22.4019,23.8169 22.6579,23.9139 22.9139,23.9139 C23.1699,23.9139 23.4259,23.8169 23.6209,23.6209 C24.0119,23.2309 24.0119,22.5979 23.6209,22.2069\"></path></g></g></svg></span> <div class=\"wprm-decoration-line\" style=\"border-color: #e0e0e0\"></div></div>\n",
       "<div class=\"wprm-recipe-meta-container wprm-recipe-custom-container wprm-recipe-details-container wprm-recipe-details-container-table wprm-block-text-normal wprm-recipe-table-borders-none wprm-recipe-table-borders-inside\" style=\"border-width: 0;border-style: dotted;border-color: #666666;\"><div class=\"wprm-recipe-block-container wprm-recipe-block-container-table wprm-block-text-normal wprm-recipe-tag-container wprm-recipe-keyword-container\" style=\"border-width: 0;border-style: dotted;border-color: #666666;\"><span class=\"wprm-recipe-details-label wprm-block-text-uppercase-faded wprm-recipe-tag-label wprm-recipe-keyword-label\">Keywords </span><span class=\"wprm-recipe-keyword wprm-block-text-normal\">Perfect with a cup of tea, Sunday Afternoon</span></div></div>\n",
       "<div class=\"wprm-spacer\"></div>\n",
       "<div class=\"wprm-call-to-action wprm-call-to-action-simple\" style=\"color: #ffffff;background-color: #004d69;margin: 0px;padding-top: 30px;padding-bottom: 30px;\"><span class=\"wprm-recipe-icon wprm-call-to-action-icon\"><svg height=\"16\" viewbox=\"0 0 24 24\" width=\"16\" xmlns=\"http://www.w3.org/2000/svg\"><g class=\"nc-icon-wrapper\" fill=\"#ffffff\"><path d=\"M12,2.162c3.204,0,3.584,0.012,4.849,0.07c1.366,0.062,2.633,0.336,3.608,1.311 c0.975,0.975,1.249,2.242,1.311,3.608c0.058,1.265,0.07,1.645,0.07,4.849s-0.012,3.584-0.07,4.849 c-0.062,1.366-0.336,2.633-1.311,3.608c-0.975,0.975-2.242,1.249-3.608,1.311c-1.265,0.058-1.645,0.07-4.849,0.07 s-3.584-0.012-4.849-0.07c-1.366-0.062-2.633-0.336-3.608-1.311c-0.975-0.975-1.249-2.242-1.311-3.608 c-0.058-1.265-0.07-1.645-0.07-4.849s0.012-3.584,0.07-4.849c0.062-1.366,0.336-2.633,1.311-3.608 c0.975-0.975,2.242-1.249,3.608-1.311C8.416,2.174,8.796,2.162,12,2.162 M12,0C8.741,0,8.332,0.014,7.052,0.072 c-1.95,0.089-3.663,0.567-5.038,1.942C0.639,3.389,0.161,5.102,0.072,7.052C0.014,8.332,0,8.741,0,12 c0,3.259,0.014,3.668,0.072,4.948c0.089,1.95,0.567,3.663,1.942,5.038c1.375,1.375,3.088,1.853,5.038,1.942 C8.332,23.986,8.741,24,12,24s3.668-0.014,4.948-0.072c1.95-0.089,3.663-0.567,5.038-1.942c1.375-1.375,1.853-3.088,1.942-5.038 C23.986,15.668,24,15.259,24,12s-0.014-3.668-0.072-4.948c-0.089-1.95-0.567-3.663-1.942-5.038 c-1.375-1.375-3.088-1.853-5.038-1.942C15.668,0.014,15.259,0,12,0L12,0z\" fill=\"#ffffff\"></path> <path d=\"M12,5.838c-3.403,0-6.162,2.759-6.162,6.162S8.597,18.162,12,18.162s6.162-2.759,6.162-6.162 S15.403,5.838,12,5.838z M12,16c-2.209,0-4-1.791-4-4s1.791-4,4-4s4,1.791,4,4S14.209,16,12,16z\" data-color=\"color-2\"></path> <circle cx=\"18.406\" cy=\"5.594\" data-color=\"color-2\" r=\"1.44\"></circle></g></svg></span> <span class=\"wprm-call-to-action-text-container\"><span class=\"wprm-call-to-action-header\" style=\"color: #ffffff;\">Tried this recipe?</span><span class=\"wprm-call-to-action-text\">Mention <a href=\"https://www.instagram.com/KitchenSanctuary\" rel=\"noreferrer noopener\" style=\"color: #ffffff\" target=\"_blank\">@KitchenSanctuary</a> or tag <a href=\"https://www.instagram.com/explore/tags/KitchenSanctuary\" rel=\"noreferrer noopener\" style=\"color: #ffffff\" target=\"_blank\">#KitchenSanctuary</a> on Instagram!</span></span></div></div></div>"
      ]
     },
     "execution_count": 38,
     "metadata": {},
     "output_type": "execute_result"
    }
   ],
   "source": [
    "info_container = soup.select_one('div.wprm-recipe-container')\n",
    "info_container"
   ]
  },
  {
   "cell_type": "code",
   "execution_count": null,
   "metadata": {},
   "outputs": [],
   "source": []
  }
 ],
 "metadata": {
  "kernelspec": {
   "display_name": "Python 3",
   "language": "python",
   "name": "python3"
  },
  "language_info": {
   "codemirror_mode": {
    "name": "ipython",
    "version": 3
   },
   "file_extension": ".py",
   "mimetype": "text/x-python",
   "name": "python",
   "nbconvert_exporter": "python",
   "pygments_lexer": "ipython3",
   "version": "3.8.5"
  }
 },
 "nbformat": 4,
 "nbformat_minor": 4
}
