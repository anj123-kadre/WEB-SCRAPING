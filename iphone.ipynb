{
  "nbformat": 4,
  "nbformat_minor": 0,
  "metadata": {
    "colab": {
      "name": "iphone.ipynb",
      "provenance": [],
      "collapsed_sections": []
    },
    "kernelspec": {
      "name": "python3",
      "display_name": "Python 3"
    },
    "language_info": {
      "name": "python"
    }
  },
  "cells": [
    {
      "cell_type": "code",
      "execution_count": 1,
      "metadata": {
        "colab": {
          "base_uri": "https://localhost:8080/"
        },
        "id": "udbyA68s-inP",
        "outputId": "f3ebfe1b-9aa9-48b3-8718-59aeb68bc85c"
      },
      "outputs": [
        {
          "output_type": "stream",
          "name": "stdout",
          "text": [
            "Requirement already satisfied: BeautifulSoup4 in /usr/local/lib/python3.7/dist-packages (4.6.3)\n",
            "Requirement already satisfied: requests in /usr/local/lib/python3.7/dist-packages (2.23.0)\n",
            "Requirement already satisfied: certifi>=2017.4.17 in /usr/local/lib/python3.7/dist-packages (from requests) (2021.10.8)\n",
            "Requirement already satisfied: idna<3,>=2.5 in /usr/local/lib/python3.7/dist-packages (from requests) (2.10)\n",
            "Requirement already satisfied: chardet<4,>=3.0.2 in /usr/local/lib/python3.7/dist-packages (from requests) (3.0.4)\n",
            "Requirement already satisfied: urllib3!=1.25.0,!=1.25.1,<1.26,>=1.21.1 in /usr/local/lib/python3.7/dist-packages (from requests) (1.24.3)\n",
            "Requirement already satisfied: pandas in /usr/local/lib/python3.7/dist-packages (1.3.5)\n",
            "Requirement already satisfied: python-dateutil>=2.7.3 in /usr/local/lib/python3.7/dist-packages (from pandas) (2.8.2)\n",
            "Requirement already satisfied: pytz>=2017.3 in /usr/local/lib/python3.7/dist-packages (from pandas) (2018.9)\n",
            "Requirement already satisfied: numpy>=1.17.3 in /usr/local/lib/python3.7/dist-packages (from pandas) (1.21.5)\n",
            "Requirement already satisfied: six>=1.5 in /usr/local/lib/python3.7/dist-packages (from python-dateutil>=2.7.3->pandas) (1.15.0)\n"
          ]
        }
      ],
      "source": [
        "!pip install BeautifulSoup4\n",
        "!pip install requests\n",
        "!pip install pandas"
      ]
    },
    {
      "cell_type": "code",
      "source": [
        "import pandas as pd\n",
        "import requests\n",
        "from bs4 import BeautifulSoup"
      ],
      "metadata": {
        "id": "KTH9N1He_T26"
      },
      "execution_count": 2,
      "outputs": []
    },
    {
      "cell_type": "code",
      "source": [
        "page=requests.get('https://www.flipkart.com/search?q=iphone&otracker=AS_Query_HistoryAutoSuggest_4_0&otracker1=AS_Query_HistoryAutoSuggest_4_0&marketplace=FLIPKART&as-show=on&as=off&as-pos=4&as-type=HISTORY')\n",
        "soup=BeautifulSoup(page.content,'html.parser')\n",
        "#print(soup)\n",
        "\n",
        "phone=soup.find(id='container')\n"
      ],
      "metadata": {
        "id": "uSKhtQDA_U6V"
      },
      "execution_count": 4,
      "outputs": []
    },
    {
      "cell_type": "code",
      "source": [
        "print(phone.find_all(class_='class=\"col col-7-12\"'))\n",
        "i=phone.find_all(class_='_2kHMtA')\n",
        "print(i[0])"
      ],
      "metadata": {
        "colab": {
          "base_uri": "https://localhost:8080/"
        },
        "id": "PHcOz68ioXc_",
        "outputId": "cf516ec1-c630-44bc-b703-1c03a4858565"
      },
      "execution_count": 5,
      "outputs": [
        {
          "output_type": "stream",
          "name": "stdout",
          "text": [
            "[]\n",
            "<div class=\"_2kHMtA\"><a class=\"_1fQZEK\" href=\"/apple-iphone-12-mini-black-64-gb/p/itm38b727191eb08?pid=MOBFWBYZXSEGBS6F&amp;lid=LSTMOBFWBYZXSEGBS6FTONJ6W&amp;marketplace=FLIPKART&amp;q=iphone&amp;store=tyy%2F4io&amp;srno=s_1_1&amp;otracker=AS_Query_HistoryAutoSuggest_4_0&amp;otracker1=AS_Query_HistoryAutoSuggest_4_0&amp;fm=organic&amp;iid=d05cf24c-eeb6-45e7-83ef-448a05fb89fb.MOBFWBYZXSEGBS6F.SEARCH&amp;ppt=None&amp;ppn=None&amp;ssid=4azgz9et1s0000001645769453401&amp;qH=0b3f45b266a97d70\" rel=\"noopener noreferrer\" target=\"_blank\"><div class=\"MIXNux\"><div class=\"_2QcLo-\"><div><div class=\"CXW8mj\" style=\"height:200px;width:200px\"><img alt=\"APPLE iPhone 12 Mini (Black, 64 GB)\" class=\"_396cs4 _3exPp9\" src=\"https://rukminim1.flixcart.com/image/312/312/kg8avm80/mobile/n/p/d/apple-iphone-12-mini-dummyapplefsn-original-imafwgbfwyzztfnh.jpeg?q=70\"/></div></div></div><div class=\"_3wLduG\"><div class=\"_3PzNI-\"><span class=\"f3A4_V\"><label class=\"_2iDkf8\"><input class=\"_30VH1S\" readonly=\"\" type=\"checkbox\"/><div class=\"_24_Dny\"></div></label></span><label class=\"_6Up2sF\"><span>Add to Compare</span></label></div></div><div class=\"_2hVSre _3nq8ih\"><div class=\"_36FSn5\"><svg class=\"_1l0elc\" height=\"16\" viewbox=\"0 0 20 16\" width=\"16\" xmlns=\"http://www.w3.org/2000/svg\"><path class=\"eX72wL\" d=\"M8.695 16.682C4.06 12.382 1 9.536 1 6.065 1 3.219 3.178 1 5.95 1c1.566 0 3.069.746 4.05 1.915C10.981 1.745 12.484 1 14.05 1 16.822 1 19 3.22 19 6.065c0 3.471-3.06 6.316-7.695 10.617L10 17.897l-1.305-1.215z\" fill=\"#2874F0\" fill-rule=\"evenodd\" opacity=\".9\" stroke=\"#FFF\"></path></svg></div></div></div><div class=\"_3pLy-c row\"><div class=\"col col-7-12\"><div class=\"_4rR01T\">APPLE iPhone 12 Mini (Black, 64 GB)</div><div class=\"gUuXy-\"><span class=\"_1lRcqv\" id=\"productRating_LSTMOBFWBYZXSEGBS6FTONJ6W_MOBFWBYZXSEGBS6F_\"><div class=\"_3LWZlK\">4.5<img class=\"_1wB99o\" src=\"data:image/svg+xml;base64,PHN2ZyB4bWxucz0iaHR0cDovL3d3dy53My5vcmcvMjAwMC9zdmciIHdpZHRoPSIxMyIgaGVpZ2h0PSIxMiI+PHBhdGggZmlsbD0iI0ZGRiIgZD0iTTYuNSA5LjQzOWwtMy42NzQgMi4yMy45NC00LjI2LTMuMjEtMi44ODMgNC4yNTQtLjQwNEw2LjUuMTEybDEuNjkgNC4wMSA0LjI1NC40MDQtMy4yMSAyLjg4Mi45NCA0LjI2eiIvPjwvc3ZnPg==\"/></div></span><span class=\"_2_R_DZ\"><span><span>91,473 Ratings </span><span class=\"_13vcmD\">&amp;</span><span> 7,419 Reviews</span></span></span></div><div class=\"fMghEO\"><ul class=\"_1xgFaf\"><li class=\"rgWa7D\">64 GB ROM</li><li class=\"rgWa7D\">13.72 cm (5.4 inch) Super Retina XDR Display</li><li class=\"rgWa7D\">12MP + 12MP | 12MP Front Camera</li><li class=\"rgWa7D\">A14 Bionic Chip with Next Generation Neural Engine Processor</li><li class=\"rgWa7D\">Ceramic Shield</li><li class=\"rgWa7D\">Industry-leading IP68 Water Resistance</li><li class=\"rgWa7D\">All Screen OLED Display</li><li class=\"rgWa7D\">12MP TrueDepth Front Camera with Night Mode, 4K Dolby Vision HDR Recording</li><li class=\"rgWa7D\">Brand Warranty for 1 Year</li></ul></div></div><div class=\"col col-5-12 nlI3QM\"><div class=\"_3tbKJL\"><div class=\"_25b18c\"><div class=\"_30jeq3 _1_WHN1\">₹41,299</div><div class=\"_3I9_wc _27UcVY\">₹<!-- -->59,900</div><div class=\"_3Ay6Sb\"><span>31% off</span></div></div><div class=\"_3tcB5a p8ucoS\"><div><div class=\"_2Tpdn3\" style=\"color:#000000;font-size:12px;font-style:normal;font-weight:400\">Free delivery</div></div></div></div><div class=\"_13J9qT\"><img height=\"21\" src=\"//static-assets-web.flixcart.com/www/linchpin/fk-cp-zion/img/fa_62673a.png\"/></div><div class=\"_2ZdXDB\"><div class=\"_3xFhiH\"><div class=\"_2Tpdn3 _18hQoS\" style=\"color:#000000;font-size:14px;font-style:normal;font-weight:400\">Upto </div><div class=\"_2Tpdn3 _18hQoS\" style=\"color:#000000;font-size:14px;font-style:normal;font-weight:700\">₹14,800</div><div class=\"_2Tpdn3 _18hQoS\" style=\"color:#000000;font-size:14px;font-style:normal;font-weight:400\"> Off on Exchange</div></div></div></div></div></a></div>\n"
          ]
        }
      ]
    },
    {
      "cell_type": "code",
      "source": [
        "print(i[0].find(class_='_4rR01T').get_text())\n",
        "print(i[0].find(class_='_30jeq3 _1_WHN1').get_text())\n",
        "print(i[0].find(class_='_3LWZlK').get_text())\n",
        "print(i[0].find(class_='rgWa7D').get_text())\n",
        "\n"
      ],
      "metadata": {
        "colab": {
          "base_uri": "https://localhost:8080/"
        },
        "id": "ck1qaYu0kz2K",
        "outputId": "d0da45a4-f611-42c2-fac2-649d475f72ff"
      },
      "execution_count": 15,
      "outputs": [
        {
          "output_type": "stream",
          "name": "stdout",
          "text": [
            "APPLE iPhone 12 Mini (Black, 64 GB)\n",
            "₹41,299\n",
            "4.5\n",
            "64 GB ROM\n"
          ]
        }
      ]
    },
    {
      "cell_type": "code",
      "source": [
        "Name=[i.find(class_='_4rR01T').get_text() for i in i]\n",
        "print(Name)"
      ],
      "metadata": {
        "colab": {
          "base_uri": "https://localhost:8080/"
        },
        "id": "OzomLU6YlDdc",
        "outputId": "dd845fbd-7c1b-4e60-cfc8-20aa70f7ca0b"
      },
      "execution_count": 16,
      "outputs": [
        {
          "output_type": "stream",
          "name": "stdout",
          "text": [
            "['APPLE iPhone 12 Mini (Black, 64 GB)', 'APPLE iPhone SE (Black, 128 GB)', 'APPLE iPhone SE (White, 64 GB)', 'APPLE iPhone SE (Red, 64 GB)', 'APPLE iPhone SE (Black, 64 GB)', 'APPLE iPhone 12 (Black, 64 GB)', 'APPLE iPhone SE (Red, 128 GB)', 'APPLE iPhone SE (White, 128 GB)', 'APPLE iPhone 12 Mini (Blue, 64 GB)', 'Apple iPhone XR ((PRODUCT)RED, 64 GB) (Includes EarPods, Power Adapter)', 'APPLE iPhone 13 Pro (Silver, 1 TB)', 'APPLE iPhone 11 (Purple, 128 GB)', 'APPLE iPhone 11 (Black, 128 GB)', 'APPLE iPhone 11 (White, 128 GB)', 'APPLE iPhone 12 Mini (White, 256 GB)', 'APPLE iPhone 11 (White, 64 GB)', 'APPLE iPhone 13 Mini (Blue, 128 GB)', 'APPLE iPhone 12 Mini (Black, 256 GB)', 'APPLE iPhone XR ((PRODUCT)RED, 128 GB)', 'APPLE iPhone 13 Mini ((PRODUCT)RED, 256 GB)', 'APPLE iPhone 13 Mini (Starlight, 512 GB)', 'APPLE iPhone 13 Pro (Graphite, 128 GB)', 'APPLE iPhone 11 (Green, 128 GB)', 'APPLE iPhone 13 Mini (Midnight, 256 GB)']\n"
          ]
        }
      ]
    },
    {
      "cell_type": "code",
      "source": [
        "price=[i.find(class_='_30jeq3 _1_WHN1').get_text() for i in i]\n",
        "print(price)"
      ],
      "metadata": {
        "colab": {
          "base_uri": "https://localhost:8080/"
        },
        "id": "V_6hC7JniFBB",
        "outputId": "e60b29f7-42b0-4092-8239-a7e8747e946c"
      },
      "execution_count": 7,
      "outputs": [
        {
          "output_type": "stream",
          "name": "stdout",
          "text": [
            "['₹41,299', '₹31,999', '₹28,999', '₹28,999', '₹28,999', '₹53,999', '₹30,999', '₹31,999', '₹41,299', '₹39,999', '₹1,69,900', '₹54,900', '₹54,900', '₹54,900', '₹64,999', '₹49,900', '₹69,900', '₹64,999', '₹44,999', '₹79,900', '₹99,900', '₹1,19,900', '₹54,900', '₹79,900']\n"
          ]
        }
      ]
    },
    {
      "cell_type": "code",
      "source": [
        "ratings=[i.find(class_='_3LWZlK').get_text() for i in i]\n",
        "print(ratings)"
      ],
      "metadata": {
        "colab": {
          "base_uri": "https://localhost:8080/"
        },
        "id": "Q4su1GTmiLuP",
        "outputId": "00df2453-ac8f-48bb-9790-65276c06d77d"
      },
      "execution_count": 8,
      "outputs": [
        {
          "output_type": "stream",
          "name": "stdout",
          "text": [
            "['4.5', '4.5', '4.5', '4.5', '4.5', '4.7', '4.5', '4.5', '4.5', '4.6', '4.7', '4.6', '4.6', '4.6', '4.5', '4.6', '4.6', '4.5', '4.6', '4.6', '4.6', '4.7', '4.6', '4.6']\n"
          ]
        }
      ]
    },
    {
      "cell_type": "code",
      "source": [
        "assicibility=[i.find(class_='rgWa7D').get_text() for i in i]\n",
        "print(assicibility)"
      ],
      "metadata": {
        "colab": {
          "base_uri": "https://localhost:8080/"
        },
        "id": "9ZAYTmxiiQKi",
        "outputId": "48174acf-03c0-4209-e2be-22cc25fff9ab"
      },
      "execution_count": 9,
      "outputs": [
        {
          "output_type": "stream",
          "name": "stdout",
          "text": [
            "['64 GB ROM', '128 GB ROM', '64 GB ROM', '64 GB ROM', '64 GB ROM', '64 GB ROM', '128 GB ROM', '128 GB ROM', '64 GB ROM', '64 GB ROM', '1 TB ROM', '128 GB ROM', '128 GB ROM', '128 GB ROM', '256 GB ROM', '64 GB ROM', '128 GB ROM', '256 GB ROM', '128 GB ROM', '256 GB ROM', '512 GB ROM', '128 GB ROM', '128 GB ROM', '256 GB ROM']\n"
          ]
        }
      ]
    },
    {
      "cell_type": "code",
      "source": [
        "topic_dict={'Name':Name,'price':price,'ratings':ratings,'assicibility':assicibility}"
      ],
      "metadata": {
        "id": "Yn6vXLanjwFz"
      },
      "execution_count": 17,
      "outputs": []
    },
    {
      "cell_type": "code",
      "source": [
        "phone_stuff=pd.DataFrame(topic_dict)\n",
        "print(phone_stuff)"
      ],
      "metadata": {
        "colab": {
          "base_uri": "https://localhost:8080/"
        },
        "id": "AlQTE9Gzj4Q2",
        "outputId": "262f1060-b2c0-49b7-f7ad-20cef28fcc25"
      },
      "execution_count": 18,
      "outputs": [
        {
          "output_type": "stream",
          "name": "stdout",
          "text": [
            "                                                 Name  ... assicibility\n",
            "0                 APPLE iPhone 12 Mini (Black, 64 GB)  ...    64 GB ROM\n",
            "1                     APPLE iPhone SE (Black, 128 GB)  ...   128 GB ROM\n",
            "2                      APPLE iPhone SE (White, 64 GB)  ...    64 GB ROM\n",
            "3                        APPLE iPhone SE (Red, 64 GB)  ...    64 GB ROM\n",
            "4                      APPLE iPhone SE (Black, 64 GB)  ...    64 GB ROM\n",
            "5                      APPLE iPhone 12 (Black, 64 GB)  ...    64 GB ROM\n",
            "6                       APPLE iPhone SE (Red, 128 GB)  ...   128 GB ROM\n",
            "7                     APPLE iPhone SE (White, 128 GB)  ...   128 GB ROM\n",
            "8                  APPLE iPhone 12 Mini (Blue, 64 GB)  ...    64 GB ROM\n",
            "9   Apple iPhone XR ((PRODUCT)RED, 64 GB) (Include...  ...    64 GB ROM\n",
            "10                 APPLE iPhone 13 Pro (Silver, 1 TB)  ...     1 TB ROM\n",
            "11                   APPLE iPhone 11 (Purple, 128 GB)  ...   128 GB ROM\n",
            "12                    APPLE iPhone 11 (Black, 128 GB)  ...   128 GB ROM\n",
            "13                    APPLE iPhone 11 (White, 128 GB)  ...   128 GB ROM\n",
            "14               APPLE iPhone 12 Mini (White, 256 GB)  ...   256 GB ROM\n",
            "15                     APPLE iPhone 11 (White, 64 GB)  ...    64 GB ROM\n",
            "16                APPLE iPhone 13 Mini (Blue, 128 GB)  ...   128 GB ROM\n",
            "17               APPLE iPhone 12 Mini (Black, 256 GB)  ...   256 GB ROM\n",
            "18             APPLE iPhone XR ((PRODUCT)RED, 128 GB)  ...   128 GB ROM\n",
            "19        APPLE iPhone 13 Mini ((PRODUCT)RED, 256 GB)  ...   256 GB ROM\n",
            "20           APPLE iPhone 13 Mini (Starlight, 512 GB)  ...   512 GB ROM\n",
            "21             APPLE iPhone 13 Pro (Graphite, 128 GB)  ...   128 GB ROM\n",
            "22                    APPLE iPhone 11 (Green, 128 GB)  ...   128 GB ROM\n",
            "23            APPLE iPhone 13 Mini (Midnight, 256 GB)  ...   256 GB ROM\n",
            "\n",
            "[24 rows x 4 columns]\n"
          ]
        }
      ]
    },
    {
      "cell_type": "code",
      "source": [
        "phone_stuff.to_csv('phone_stuff.csv')"
      ],
      "metadata": {
        "id": "CRt0nf1sj_X7"
      },
      "execution_count": 19,
      "outputs": []
    }
  ]
}